{
 "cells": [
  {
   "cell_type": "markdown",
   "metadata": {},
   "source": [
    "von Foerster Hazard Rate Models\n",
    "===============================\n",
    "\n",
    "Preamble\n",
    "--------\n",
    "\n",
    "*All [epidemiological models](https://en.wikipedia.org/wiki/Compartmental_models_in_epidemiology) are [Malthusian](https://en.wikipedia.org/wiki/Malthusian_growth_model). Fortunately [Malthus](https://en.wikipedia.org/wiki/Thomas_Robert_Malthus) was an optimist. His model postulates that a population will continuously approach [equilibrium](https://en.wikipedia.org/wiki/Ecological_stability) with the environment, without [overshoot](https://en.wikipedia.org/wiki/Overshoot_%28population%29) or [catastrophic collapse](https://en.wikipedia.org/wiki/Ecological_collapse).*\n",
    "\n",
    "Acknowledgment\n",
    "--------------\n",
    "\n",
    "While I might be the first to rigorously chart a formal theory of biological ageing processes, from mathematical first principles, I cannot claim to be the first to tread this territory. Unbeknownst to me Dr. Nicholas Stroustrup has been diligently synthesizing the informal mathematical concepts, [for a general audience](https://arxiv.org/abs/1805.06681), that provide the landmarks for my cartographic efforts. \n",
    "\n",
    "Citing\n",
    "------\n",
    "\n",
    "Not withstanding any [licenses](../LICENSE), all use, incorporation, modification, or any other derivative products must cite the author and this work as a contributing source. If you fail to cite this work you are expressly **FORBIDDEN** to use this work in any form.\n",
    "\n",
    "> Aaron Sheldon (2020), \"von Foerster Hazards\" v1.0, Zenodo, doi:Pending registration with Zenodo\n",
    "\n",
    "```\n",
    "@misc{vonFoersterHazards,\n",
    "    author    = {Aaron Sheldon},\n",
    "    title     = {{von Foerster Hazards}},\n",
    "    year      = 2020,\n",
    "    doi       = {Pending registration with Zenodo},\n",
    "    version   = {1.0},\n",
    "    publisher = {Zenodo},\n",
    "    url       = {https://doi.org}\n",
    "    }\n",
    "```\n",
    "\n",
    "\n",
    "Background\n",
    "----------\n",
    "\n",
    "The canonical von Foerster relationship states that for a stochastic process on age $a$ and time $t$ the [infinitesimal generator](https://en.wikipedia.org/wiki/Infinitesimal_generator_%28stochastic_processes%29) of probability is the kernel of the evolution of the expectation. Formally, given the [hazard rate](https://en.wikipedia.org/wiki/Hazard_ratio) $h$ of the stopping time statistic $A^{\\left(t\\right)}$ of an age dependent stochastic process:\n",
    "\n",
    "$$\n",
    "\\begin{array}{rcl}\n",
    "    \\mathbb{P}\\left[ A^{\\left(t\\right)} = a \\parallel A^{\\left(t\\right)} \\ge a \\right] \n",
    "    & = & h\n",
    "\\end{array}\n",
    "$$\n",
    "\n",
    "and the conditional expectation of the density of states occupancy statistic $N^{\\left(a,t\\right)}$:\n",
    "\n",
    "$$\n",
    "\\begin{array}{rcl}\n",
    "    \\mathbb{E}\\left[N^{\\left(a,t\\right)} \\parallel N^{\\left(a-t,0\\right)} \\right]\n",
    "    & = &\n",
    "    n\n",
    "\\end{array}\n",
    "$$\n",
    "\n",
    "the hazard rate $h$ is the [kernel](https://en.wikipedia.org/wiki/Transition_kernel) of the [von Foerster forward evolution operator](https://en.wikipedia.org/wiki/Von_Foerster_equation) acting on the expected occupancy $n$ along the cohort diagonal of constant birth time $t-a$:\n",
    "\n",
    "$$\n",
    "\\begin{array}{rcl}\n",
    "    \\partial_a n + \\partial_t n \n",
    "    & = &\n",
    "    - h \\cdot n\n",
    "\\end{array}\n",
    "$$\n",
    "\n",
    "The von Foerster equation reflects the observation that while the state of an individual may change the birth cohort will remained fixed. For a system of occupancy in multiple states the hazard rate is a matrix of transition rates $H$. For endogenous processes the hazard rate matrix must maintain detailed balance within each age $a$ cohort at each time $t$:\n",
    "\n",
    "$$\n",
    "\\begin{array}{rcl}\n",
    "    \\vec{1}^\\dagger H \n",
    "    & = &\n",
    "    0\n",
    "\\end{array}\n",
    "$$\n",
    "\n",
    "In contrast for exogenous processes across the entire population the hazard rate matrix need only maintain global balance at each time $t$ to ensure conservation of probability:\n",
    "\n",
    "$$\n",
    "\\begin{array}{rcl}\n",
    "    \\vec{1}^\\dagger \\int_0^\\infty H da \n",
    "    & = &\n",
    "    0\n",
    "\\end{array}\n",
    "$$\n",
    "\n",
    "In either case to ensure the hazard rate matrix $H$ represents a topologically well formed ordering of transitions between states the the diagonal entries must be non-negative and the off diagonal entries must be non-positive. We can immediately observe that for the stopping time statistic $A^{\\left(t\\right)}_{i \\rightarrow j}$ of the first transition from state $i$ to the absorbing state $j$ we have the hazard rate matrix:\n",
    "\n",
    "$$\n",
    "\\begin{array}{rcl}\n",
    "    \\mathbb{P}\\left[ A^{\\left(t\\right)}_{i \\rightarrow j}=a \\parallel A^{\\left(t\\right)}_{i \\rightarrow j} \\ge a \\right] \n",
    "    & = & \n",
    "    H\n",
    "\\end{array}\n",
    "$$\n",
    "\n",
    "The hazard rate matrix $H$ need not, and usually does not, [commute](https://en.wikipedia.org/wiki/Commutator) with its integral along the cohort diagonal. Furthermore, because the duration of integration can exceed the smallest [characteristic dwelling time](https://en.wikipedia.org/wiki/Relaxation_%28physics%29) of the states there will be unobserved intermediate transitions between states. As a consequence the kernel of the von Foerster equation is the [adjoint derivative](https://en.wikipedia.org/wiki/Derivative_of_the_exponential_map) of the integral of the hazard rate, where the dot is the [currying](https://en.wikipedia.org/wiki/Currying) application of the [adjoint operator](https://en.wikipedia.org/wiki/Adjoint_representation) $ad_X Y=XY-YX$ to the parenthesized hazard rate $H$:\n",
    "\n",
    "$$\n",
    "\\begin{array}{rcl}\n",
    "    \\partial_a \\vec{n} + \\partial_t \\vec{n} \n",
    "    & = &\n",
    "    - \\left[\\displaystyle \\frac{e^{-ad_{\\int_0^a H du} \\cdot} - 1}{ad_{\\int_0^a H du} \\cdot} \\right] \\left(H\\right) \\vec{n}\n",
    "\\end{array}\n",
    "$$\n",
    "\n",
    "When the hazard rate matrix is constant the adjoint derivative simplifies to the hazard rate, and the partial differential equation takes on it's usual linear form. We will use the preceding vector equation to phenomenologically model the age dependent dynamics of communicable diseases, subject to the boundary conditions of an initial demographic $\\vec{n}(a,0)$, and constant birth rate $\\vec{n}(0,t)=\\vec{n}_\\text{B}$.\n",
    "\n",
    "Methods\n",
    "-------\n",
    "\n",
    "Fortunately if the duration of integration is sufficiently short the hazard rate matrix is approximately constant, enabling us to apply a [finite element](https://en.wikipedia.org/wiki/Finite_element_method) scale of one day in age and time $\\Delta a = \\Delta t = 1 \\enspace\\text{day}$ to evolve the von Foester along the cohort diagonals:\n",
    "\n",
    "$$\n",
    "\\begin{array}{rcl}\n",
    "    \\vec{n}\\left(a + \\Delta t, t + \\Delta t \\right)\n",
    "    & = &\n",
    "    e^{-H \\Delta t} \\vec{n}\\left(a, t\\right)\n",
    "\\end{array}\n",
    "$$\n",
    "\n",
    "To ensure that we can work with the nuances of integer counts without excluding low hazard transitions due to an arbitrary choice in rounding we have to introduce two steps. First, for the fractional part of the count we draw a value $u$ from the uniform probability distribution on $\\left[0,1\\right)$ incrementing by $1$ if the fractional part exceeds the draw $u$ and incrementing by $0$ otherwise. Second, we conserve state occupancy $n_i$ by ordering the transition counts $n_{i \\rightarrow j}$ from largest to smallest cutting off immediately before the cumulative losses exceed the state occupancy $n_i$."
   ]
  },
  {
   "cell_type": "code",
   "execution_count": 2,
   "metadata": {},
   "outputs": [],
   "source": [
    "using vonFoersterHazards, CalibrateBaseline, CommunicableDisease"
   ]
  },
  {
   "cell_type": "code",
   "execution_count": 4,
   "metadata": {},
   "outputs": [
    {
     "name": "stdout",
     "output_type": "stream",
     "text": [
      "search: \u001b[0m\u001b[1mv\u001b[22m\u001b[0m\u001b[1mo\u001b[22m\u001b[0m\u001b[1mn\u001b[22m\u001b[0m\u001b[1mF\u001b[22m\u001b[0m\u001b[1mo\u001b[22m\u001b[0m\u001b[1me\u001b[22m\u001b[0m\u001b[1mr\u001b[22m\u001b[0m\u001b[1ms\u001b[22m\u001b[0m\u001b[1mt\u001b[22m\u001b[0m\u001b[1me\u001b[22m\u001b[0m\u001b[1mr\u001b[22m\u001b[0m\u001b[1mH\u001b[22m\u001b[0m\u001b[1ma\u001b[22m\u001b[0m\u001b[1mz\u001b[22m\u001b[0m\u001b[1ma\u001b[22m\u001b[0m\u001b[1mr\u001b[22m\u001b[0m\u001b[1md\u001b[22m\u001b[0m\u001b[1ms\u001b[22m\n",
      "\n"
     ]
    },
    {
     "data": {
      "text/latex": [
       "\\begin{verbatim}\n",
       "vonFoersterHazards\n",
       "\\end{verbatim}\n",
       "Engine and utilities to forward propagate the von Foerster evolution from the hazard rate, birth rate, and initial demographics.\n",
       "\n"
      ],
      "text/markdown": [
       "```\n",
       "vonFoersterHazards\n",
       "```\n",
       "\n",
       "Engine and utilities to forward propagate the von Foerster evolution from the hazard rate, birth rate, and initial demographics.\n"
      ],
      "text/plain": [
       "\u001b[36m  vonFoersterHazards\u001b[39m\n",
       "\n",
       "  Engine and utilities to forward propagate the von Foerster evolution from\n",
       "  the hazard rate, birth rate, and initial demographics."
      ]
     },
     "execution_count": 4,
     "metadata": {},
     "output_type": "execute_result"
    }
   ],
   "source": [
    "?vonFoersterHazards"
   ]
  },
  {
   "cell_type": "markdown",
   "metadata": {},
   "source": [
    "The main loop of the evolution engine is encapsulated in the `evolve` type supplied by the `vonFoersterHazards` module:"
   ]
  },
  {
   "cell_type": "code",
   "execution_count": 13,
   "metadata": {},
   "outputs": [
    {
     "name": "stdout",
     "output_type": "stream",
     "text": [
      "search: \u001b[0m\u001b[1me\u001b[22m\u001b[0m\u001b[1mv\u001b[22m\u001b[0m\u001b[1mo\u001b[22m\u001b[0m\u001b[1ml\u001b[22m\u001b[0m\u001b[1mv\u001b[22m\u001b[0m\u001b[1me\u001b[22m\n",
      "\n"
     ]
    },
    {
     "data": {
      "text/latex": [
       "\\begin{verbatim}\n",
       "evolve(ages, population, count, size)\n",
       "\\end{verbatim}\n",
       "Iterable container for the population model. Conceptually the boundary labels the columns and the ages labels the rows of the population matrix. Cohorts are stored in reverse order, so that births can be pushed to the vector.\n",
       "\n"
      ],
      "text/markdown": [
       "```\n",
       "evolve(ages, population, count, size)\n",
       "```\n",
       "\n",
       "Iterable container for the population model. Conceptually the boundary labels the columns and the ages labels the rows of the population matrix. Cohorts are stored in reverse order, so that births can be pushed to the vector.\n"
      ],
      "text/plain": [
       "\u001b[36m  evolve(ages, population, count, size)\u001b[39m\n",
       "\n",
       "  Iterable container for the population model. Conceptually the boundary\n",
       "  labels the columns and the ages labels the rows of the population matrix.\n",
       "  Cohorts are stored in reverse order, so that births can be pushed to the\n",
       "  vector."
      ]
     },
     "execution_count": 13,
     "metadata": {},
     "output_type": "execute_result"
    }
   ],
   "source": [
    "?evolve"
   ]
  },
  {
   "cell_type": "markdown",
   "metadata": {},
   "source": [
    "The `evolve` type acts on an initial population encapsulated in the `population` type, and returns a new `population` at each step:"
   ]
  },
  {
   "cell_type": "code",
   "execution_count": null,
   "metadata": {},
   "outputs": [],
   "source": [
    "?population"
   ]
  },
  {
   "cell_type": "markdown",
   "metadata": {},
   "source": [
    "In turn the `population` type is indexable so that single age cohorts can be extracted in the encapsulating `cohort` type:"
   ]
  },
  {
   "cell_type": "code",
   "execution_count": null,
   "metadata": {},
   "outputs": [],
   "source": [
    "?cohort"
   ]
  },
  {
   "cell_type": "markdown",
   "metadata": {},
   "source": [
    "The first utility to demonstrate is the random truncation function. We supply it with a random float repeated and broadcast the function call:"
   ]
  },
  {
   "cell_type": "code",
   "execution_count": 5,
   "metadata": {},
   "outputs": [
    {
     "name": "stdout",
     "output_type": "stream",
     "text": [
      "search: \u001b[0m\u001b[1mr\u001b[22m\u001b[0m\u001b[1ma\u001b[22m\u001b[0m\u001b[1mn\u001b[22m\u001b[0m\u001b[1md\u001b[22m\u001b[0m\u001b[1mo\u001b[22m\u001b[0m\u001b[1mm\u001b[22m\u001b[0m\u001b[1mt\u001b[22m\u001b[0m\u001b[1mr\u001b[22m\u001b[0m\u001b[1mu\u001b[22m\u001b[0m\u001b[1mn\u001b[22m\u001b[0m\u001b[1mc\u001b[22m\u001b[0m\u001b[1ma\u001b[22m\u001b[0m\u001b[1mt\u001b[22m\u001b[0m\u001b[1me\u001b[22m\n",
      "\n"
     ]
    },
    {
     "data": {
      "text/latex": [
       "\\begin{verbatim}\n",
       "randomtruncate(x)\n",
       "\\end{verbatim}\n",
       "Randomly return the floor or the ceiling by comparing the fractional part of the number to a sample from the uniform distribution on [0,1). If the fraction is greater than the random sample return the ceiling otherwise return the floor.\n",
       "\n"
      ],
      "text/markdown": [
       "```\n",
       "randomtruncate(x)\n",
       "```\n",
       "\n",
       "Randomly return the floor or the ceiling by comparing the fractional part of the number to a sample from the uniform distribution on [0,1). If the fraction is greater than the random sample return the ceiling otherwise return the floor.\n"
      ],
      "text/plain": [
       "\u001b[36m  randomtruncate(x)\u001b[39m\n",
       "\n",
       "  Randomly return the floor or the ceiling by comparing the fractional part of\n",
       "  the number to a sample from the uniform distribution on [0,1). If the\n",
       "  fraction is greater than the random sample return the ceiling otherwise\n",
       "  return the floor."
      ]
     },
     "execution_count": 5,
     "metadata": {},
     "output_type": "execute_result"
    }
   ],
   "source": [
    "?randomtruncate"
   ]
  },
  {
   "cell_type": "code",
   "execution_count": 6,
   "metadata": {},
   "outputs": [
    {
     "name": "stdout",
     "output_type": "stream",
     "text": [
      "[2.81762, 2.81762, 2.81762, 2.81762, 2.81762, 2.81762, 2.81762, 2.81762, 2.81762, 2.81762]\n",
      "[2, 3, 3, 3, 3, 3, 3, 2, 3, 3]\n"
     ]
    }
   ],
   "source": [
    "x=fill(10*rand(),10)\n",
    "println(x)\n",
    "println(randomtruncate.(x))"
   ]
  },
  {
   "cell_type": "markdown",
   "metadata": {},
   "source": [
    "Next we demonstrate the, unsafe, sum conservation function on random vector of a positive integers:"
   ]
  },
  {
   "cell_type": "code",
   "execution_count": 7,
   "metadata": {},
   "outputs": [
    {
     "name": "stdout",
     "output_type": "stream",
     "text": [
      "search: \u001b[0m\u001b[1mc\u001b[22m\u001b[0m\u001b[1mo\u001b[22m\u001b[0m\u001b[1mn\u001b[22m\u001b[0m\u001b[1ms\u001b[22m\u001b[0m\u001b[1me\u001b[22m\u001b[0m\u001b[1mr\u001b[22m\u001b[0m\u001b[1mv\u001b[22m\u001b[0m\u001b[1me\u001b[22m\u001b[0m\u001b[1ms\u001b[22m\u001b[0m\u001b[1mu\u001b[22m\u001b[0m\u001b[1mm\u001b[22m\u001b[0m\u001b[1m!\u001b[22m\n",
      "\n"
     ]
    },
    {
     "data": {
      "text/latex": [
       "\\begin{verbatim}\n",
       "conservesum!(A, a)\n",
       "\\end{verbatim}\n",
       "In place enforcement that the sum of the columns of A equals the corresponding element of a. Note this assumes the inputs are well formed, there are no bounds or sanity checks.\n",
       "\n"
      ],
      "text/markdown": [
       "```\n",
       "conservesum!(A, a)\n",
       "```\n",
       "\n",
       "In place enforcement that the sum of the columns of A equals the corresponding element of a. Note this assumes the inputs are well formed, there are no bounds or sanity checks.\n"
      ],
      "text/plain": [
       "\u001b[36m  conservesum!(A, a)\u001b[39m\n",
       "\n",
       "  In place enforcement that the sum of the columns of A equals the\n",
       "  corresponding element of a. Note this assumes the inputs are well formed,\n",
       "  there are no bounds or sanity checks."
      ]
     },
     "execution_count": 7,
     "metadata": {},
     "output_type": "execute_result"
    }
   ],
   "source": [
    "?conservesum!"
   ]
  },
  {
   "cell_type": "code",
   "execution_count": 8,
   "metadata": {},
   "outputs": [
    {
     "name": "stdout",
     "output_type": "stream",
     "text": [
      "[2, 6, 8, 7, 9, 6, 4, 9, 2, 1]\n",
      "54\n",
      "[2, 5, 7, 6, 8, 6, 4, 8, 2, 1]\n",
      "49\n"
     ]
    }
   ],
   "source": [
    "y=rand(0:10,10)\n",
    "println(y)\n",
    "println(sum(y))\n",
    "println(conservesum!(y,sum(y)-5))\n",
    "println(sum(y))"
   ]
  },
  {
   "cell_type": "markdown",
   "metadata": {},
   "source": [
    "Covariance\n",
    "----------\n",
    "\n",
    "The transition probabilities out of a single state are a [multinomial distribution](https://en.wikipedia.org/wiki/Multinomial_distribution) so that the covariances of the transitions within a single birth cohort are given by the multinomial covariance matrix. \n",
    "\n",
    "$$\n",
    "\\begin{array}{rcl}\n",
    "    \\mathbb{C}ov\\left[ N^{\\left(a, \\Delta t \\right)}_{i \\rightarrow j}, N^{\\left(a, \\Delta t \\right)}_{k \\rightarrow l} \\parallel \\vec{N}^{\\left(a - \\Delta t, 0 \\right)} \\right]\n",
    "    & = &\n",
    "    \\left\\{\n",
    "    \\begin{array}{ll}\n",
    "        0 & i \\ne k\\\\\\\\\n",
    "        N^{\\left(a - \\Delta t, 0 \\right)}_i \\mathbb{P}\\left[ T^{\\left(a - \\Delta t\\right)}_{i \\rightarrow j} \\le \\Delta t \\right] \\left( 1 - \\mathbb{P}\\left[ T^{\\left(a- \\Delta t\\right)}_{i \\rightarrow j} \\le \\Delta t \\right] \\right)\n",
    "        & j = l\\\\\\\\\n",
    "        N^{\\left(a- \\Delta t, 0 \\right)}_i \\mathbb{P}\\left[ T^{\\left(a- \\Delta t\\right)}_{i \\rightarrow j} \\le \\Delta t \\right] \\mathbb{P}\\left[ T^{\\left(a- \\Delta t\\right)}_{i \\rightarrow l} \\le \\Delta t \\right]\n",
    "        & \\text{otherwise}\n",
    "    \\end{array}\n",
    "    \\right.\n",
    "\\end{array}\n",
    "$$\n",
    "\n",
    "It follows from the [Levy-Khintchine](https://en.wikipedia.org/wiki/L%C3%A9vy_process#L%C3%A9vy%E2%80%93Khintchine_representation) characterization and the [law of total covariance](https://en.wikipedia.org/wiki/Law_of_total_covariance) that the covariance of the expectation of the density of states occupancy $\\vec{n}$ at time $\\Delta t$ within a birth cohort can be recursively calculated from the prior covariances and the covariances of the transitions into each states:\n",
    "\n",
    "$$\n",
    "\\begin{array}{rcl}\n",
    "    \\mathbb{C}ov\\left[ N^{\\left(a, \\Delta t\\right)}_i , N^{\\left(a, \\Delta t\\right)}_j \\right]\n",
    "    & = &\n",
    "    \\mathbb{E}\\left[\\mathbb{C}ov\\left[ N^{\\left(a,\\Delta t\\right)}_i , N^{\\left(a,\\Delta t\\right)}_j \\parallel \\vec{N}^{\\left(a - \\Delta t,0\\right)} \\right]\\right]\n",
    "    +\n",
    "    \\mathbb{C}ov\\left[ \\mathbb{E}\\left[ N^{\\left(a,\\Delta t\\right)}_i \\parallel \\vec{N}^{\\left(a - \\Delta t,0\\right)} \\right] , \\mathbb{E}\\left[ N^{\\left(a,\\Delta t\\right)}_j \\parallel \\vec{N}^{\\left(a - \\Delta t,0\\right)} \\right] \\right]\\\\\\\\\n",
    "    & = &\n",
    "    \\left\\{\n",
    "    \\begin{array}{ll}\n",
    "        \\displaystyle \\sum_k \\mathbb{E}\\left[N^{\\left(a - \\Delta t,0\\right)}_k\\right] \\mathbb{P}\\left[T^{\\left(a - \\Delta t\\right)}_{k \\rightarrow i}\\right] \\left(1-\\mathbb{P}\\left[T^{\\left(a - \\Delta t\\right)}_{k \\rightarrow i}\\right]\\right)\n",
    "        +\n",
    "        \\sum_{k,l} \\mathbb{C}ov \\left[ N^{\\left(a - \\Delta t,0\\right)}_k, N^{\\left(a - \\Delta t,0\\right)}_l \\right] \\mathbb{P}\\left[T^{\\left(a - \\Delta t\\right)}_{k \\rightarrow i}\\right] \\mathbb{P}\\left[T^{\\left(a - \\Delta t\\right)}_{l \\rightarrow i}\\right]\n",
    "        & i=j \\\\\\\\\n",
    "        \\displaystyle \\sum_k \\mathbb{E}\\left[N^{\\left(a - \\Delta t,0\\right)}_k\\right] \\mathbb{P}\\left[T^{\\left(a - \\Delta t\\right)}_{k \\rightarrow i}\\right] \\mathbb{P}\\left[T^{\\left(a - \\Delta t\\right)}_{k \\rightarrow j}\\right]\n",
    "        +\n",
    "        \\sum_{k,l} \\mathbb{C}ov \\left[ N^{\\left(a - \\Delta t,0\\right)}_k, N^{\\left(a - \\Delta t,0\\right)}_l \\right] \\mathbb{P}\\left[T^{\\left(a - \\Delta t\\right)}_{k \\rightarrow i}\\right] \\mathbb{P}\\left[T^{\\left(a - \\Delta t\\right)}_{l \\rightarrow j}\\right]\n",
    "        & \\text{otherwise}\n",
    "    \\end{array}\n",
    "    \\right.\n",
    "\\end{array}\n",
    "$$\n",
    "\n",
    "The first summand in the covariance is the update from the covariances of the current transition and the second summand is the pull forward of the previous covariances. We can write this in matrix notation giving the recursive update of the covariance $C^{\\left(\\Delta t \\right)}$ from the probability $P$ and the expected occupancy $\\vec{n}$, where $diag$ is the diagonal operator, placing a vector on the diagonal of a matrix, or extracting the diagonal from a matrix:\n",
    "\n",
    "$$\n",
    "\\begin{array}{rcl}\n",
    "    C^{\\left(\\Delta t \\right)}\n",
    "    & = &\n",
    "    P C^{\\left(0 \\right)} P^\\dagger + P diag\\left(\\vec{n}\\right) P^\\dagger + diag\\left(P \\vec{n}\\right) - 2 diag\\left(P diag\\left(\\vec{n}\\right) P^\\dagger\\right)\n",
    "\\end{array}\n",
    "$$\n",
    "\n",
    "We can then apply the [multivariate normal](https://en.wikipedia.org/wiki/Multivariate_normal_distribution) approximation, while taking into account the [volume penalty](https://en.wikipedia.org/wiki/Volume_of_an_n-ball) of the [N-sphere](https://en.wikipedia.org/wiki/N-sphere), to determine approximate confidence vectors in the covariance [N-ellipsoid](https://en.wikipedia.org/wiki/Ellipsoid#In_higher_dimensions) by transforming from multivariate standard normal vectors back to the state occupancy space. One note of caution, if the process is free of births than the states are linearly dependent because the occupancy sum across states is fixed and hence the covariance matrix will be degenerate, and will not be have an inverse. Positive definiteness, and the existence of an inverse, can be restored by eliminating one state, usually a source state, such as the count of susceptible individuals, from the covariance matrix, in both a rows and columns."
   ]
  },
  {
   "cell_type": "code",
   "execution_count": 3,
   "metadata": {},
   "outputs": [
    {
     "name": "stdout",
     "output_type": "stream",
     "text": [
      "search: \u001b[0m\u001b[1mc\u001b[22m\u001b[0m\u001b[1mo\u001b[22m\u001b[0m\u001b[1mv\u001b[22m\u001b[0m\u001b[1ma\u001b[22m\u001b[0m\u001b[1mr\u001b[22m\u001b[0m\u001b[1mi\u001b[22m\u001b[0m\u001b[1ma\u001b[22m\u001b[0m\u001b[1mn\u001b[22m\u001b[0m\u001b[1mc\u001b[22m\u001b[0m\u001b[1me\u001b[22m\n",
      "\n"
     ]
    },
    {
     "data": {
      "text/latex": [
       "\\begin{verbatim}\n",
       "covariance(C, P, n)\n",
       "\\end{verbatim}\n",
       "Update of the covariances C from the transition probabilities P and the previous state n. Each column of P is assumed to represent the exit  probabilities from a single state and thus should add to 1 with all entries non-negative. Note this assumes the inputs are well formed, there are no bounds or sanity checks.\n",
       "\n"
      ],
      "text/markdown": [
       "```\n",
       "covariance(C, P, n)\n",
       "```\n",
       "\n",
       "Update of the covariances C from the transition probabilities P and the previous state n. Each column of P is assumed to represent the exit  probabilities from a single state and thus should add to 1 with all entries non-negative. Note this assumes the inputs are well formed, there are no bounds or sanity checks.\n"
      ],
      "text/plain": [
       "\u001b[36m  covariance(C, P, n)\u001b[39m\n",
       "\n",
       "  Update of the covariances C from the transition probabilities P and the\n",
       "  previous state n. Each column of P is assumed to represent the exit\n",
       "  probabilities from a single state and thus should add to 1 with all entries\n",
       "  non-negative. Note this assumes the inputs are well formed, there are no\n",
       "  bounds or sanity checks."
      ]
     },
     "execution_count": 3,
     "metadata": {},
     "output_type": "execute_result"
    }
   ],
   "source": [
    "?covariance"
   ]
  },
  {
   "cell_type": "code",
   "execution_count": 10,
   "metadata": {},
   "outputs": [
    {
     "data": {
      "text/plain": [
       "2×2 Array{Float64,2}:\n",
       " 0.531134  0.999871\n",
       " 0.432404  0.41098 "
      ]
     },
     "execution_count": 10,
     "metadata": {},
     "output_type": "execute_result"
    }
   ],
   "source": [
    "covariance(rand(2,2),rand(2,2),rand(Int64,2))"
   ]
  },
  {
   "cell_type": "markdown",
   "metadata": {},
   "source": [
    "Compartments\n",
    "------------\n",
    "\n",
    "Even the most concise model of age dependent communicable diseases, in which we only account for a handful of observed states and transitions, still requires $8$ density of states functions to distinguish between all the observed outcomes, particularly when permuting the absorbing state of fatality by causes and settings:\n",
    "\n",
    "$$\n",
    "\\vec{n}\n",
    "=\n",
    "\\begin{bmatrix}\n",
    "  n_\\text{S}\\\\\n",
    "  n_\\text{I}\\\\\n",
    "  n_\\text{H}\\\\\n",
    "  n_\\text{R}\\\\\n",
    "  n_\\text{D}\\\\\n",
    "  n_\\text{FA}\\\\\n",
    "  n_\\text{FI}\\\\\n",
    "  n_\\text{FH}\n",
    "\\end{bmatrix}\n",
    "\\begin{array}{cl}\n",
    "  \\rightarrow & \\text{Susceptible}\\\\\n",
    "  \\rightarrow & \\text{Infected}\\\\\n",
    "  \\rightarrow & \\text{Hospitalized}\\\\\n",
    "  \\rightarrow & \\text{Recovery of infected}\\\\\n",
    "  \\rightarrow & \\text{Discharge of hospitalized}\\\\\n",
    "  \\rightarrow & \\text{Fatalities due to ageing}\\\\\n",
    "  \\rightarrow & \\text{Fatalities of infected}\\\\\n",
    "  \\rightarrow & \\text{Fatalities of hospitalized}\n",
    "\\end{array}\n",
    "$$\n",
    "\n",
    "Of the possible transitions only the those from susceptible to infected is a strongly exogenous process, representing the transmission of the communicable disease. The other possible transitions represent endogenous biological processes.\n",
    "\n",
    "Gompertz Processes\n",
    "------------------\n",
    "\n",
    "Over nearly two centuries endogenous biological ageing has been well characterized as following [Gompertz processes](https://en.wikipedia.org/wiki/Gompertz-Makeham_law_of_mortality) on average, as a function of age $a$:\n",
    "\n",
    "$$\n",
    "\\begin{array}{rcl}\n",
    "    h \n",
    "    & = &\n",
    "    \\beta e^{\\alpha \\cdot a}\n",
    "\\end{array}\n",
    "$$\n",
    "\n",
    "The ageing acceleration parameter $\\alpha$ can be either positive or negative. Heuristically exacerbation processes are positive, while recovery processes are negative. For example, hospitalizations increase exponentially with age, while discharges decrease exponentially with age, that is increasing length of hospital stay. Gompertz processes theoretically arise in the asymptotic limit of infinitesimal stochastic accelerations of time. Accelerated failure time as a model of biological response to environmental stresses has been rigorously validated in high throughput basic science experiments on [Caenorhabditis elegans ](https://www.nature.com/articles/nature16550). In turn the experimental validation of accelerated failure times gives a parsimonious model for transient infections. Given a background hazard rate $h\\left(a\\right)$:\n",
    "\n",
    "$$\n",
    "\\begin{array}{rcl}\n",
    "    \\mathbb{P}\\left[ A = a \\parallel A \\ge a \\right]\n",
    "    & = & \n",
    "    h\\left(a\\right)\n",
    "\\end{array}\n",
    "$$\n",
    "\n",
    "The statistical impact of an illness is to accelerate the stopping time by a factor of $\\gamma \\gt 1$, which by differentiating the cumulative probability by age $a$ yields the relationship:\n",
    "\n",
    "$$\n",
    "\\begin{array}{rcl}\n",
    "    \\mathbb{P}\\left[ A = \\gamma a \\parallel A \\ge \\gamma a \\right]\n",
    "    & = & \n",
    "    \\gamma h\\left(\\gamma a\\right)\n",
    "\\end{array}\n",
    "$$\n",
    "\n",
    "The combination of Gompertz processes and accelerated failure time models greatly simplify the construction of communicable disease models because, given a priori estimates of the background parameters, only the single acceleration parameter $\\gamma$ needs to be estimated, and then applied to the background dynamics as an age $a$ and hazard $h$ multiplier.\n",
    "\n",
    "Makeham Processes\n",
    "-----------------\n",
    "\n",
    "In contrast to the simplicity of Gompertz processes and accelerated failure time models as phenomenological theories of endogenous biological processes, exogenous biological processes, particularly the logistic growth of social interactions through puberty, demands a much more complex theory. Makeham processes characterize the casualties of interactions through a bivariate age-age scattering cross section that describes the rate of interaction between any two ages. In turn the age-age [scattering cross section](https://en.wikipedia.org/wiki/Cross_section_%28physics%29) can be [spectrally decomposed](https://en.wikipedia.org/wiki/Spectral_theorem) into a sum of products of univariate uniform normalized Eigen functions:\n",
    "\n",
    "$$\n",
    "\\begin{array}{rcl}\n",
    "    \\sigma\n",
    "    & = &\n",
    "    \\displaystyle\\sum_{\\lambda} \\lambda \\hat{\\sigma}^\\dagger_\\lambda \\hat{\\sigma}_\\lambda\n",
    "\\end{array}\n",
    "$$\n",
    "\n",
    "While the Eigen functions are dimensionless, the Eigen values $\\lambda$ carry inverse volume units of $\\left(\\text{person} \\times \\text{person} \\times \\text{time}\\right)^{-1}$. From empirical observations the dominant first order summand of the age-age scattering cross section is logistic, and can be interpreted as representing the fraction of the demographic of a particular age that is instantaneously available for social interactions:\n",
    "\n",
    "$$\n",
    "\\begin{array}{rcl}\n",
    "    \\hat{\\sigma}\n",
    "    & = & \n",
    "    \\displaystyle\\frac{1}{1 + e^{-\\alpha_\\text{pub} \\left(a - \\beta_\\text{pub} \\right)}}\n",
    "\\end{array}\n",
    "$$\n",
    "\n",
    "Even with the scattering cross section in hand we cannot naively place the term into the canonical epidemiological infection rate to determine the hazard rate because social interactions are highly serialized. Instead we will work through a combinatoric-probabilistic argument to derive the hazard of infection under serialized social interactions. For a single person consider a short period of time $\\delta t$ during which that person interacts with $\\kappa$ people. Provided the infections do not grow during the time of $\\delta t$ the hazard $h$ of infection is roughly constant. Assuming transmission is guaranteed when in social contact with an infected person, the probability of getting infected after time $T \\gt \\delta t$ is then the probability that all $\\kappa$ contacts are not infected $I^{\\left(t\\right)}$ before time $\\delta t$:\n",
    "\n",
    "$$\n",
    "\\begin{array}{rcl}\n",
    "    e^{-\\int_0^{\\delta t} h da} \n",
    "    & = &\n",
    "    e^{-h \\delta t}\\\\\n",
    "    & = &\n",
    "    \\mathbb{P}\\left[T \\gt \\delta t\\right]\\\\\n",
    "    & = &\n",
    "    \\left(1 - \\mathbb{P}\\left[I^{\\left(0\\right)}\\right]\\right)^\\kappa\n",
    "\\end{array}\n",
    "$$\n",
    "\n",
    "To estimate the probability of encountering an infected person $\\mathbb{P}\\left[I^{\\left(t\\right)} \\right]$ at time $t$ we weight the integral of each state density function with the dominant term from the age-age scattering cross section, essentially counting the fractional contributions by age, and noting that any multiplicative constants cancel out:\n",
    "\n",
    "$$\n",
    "\\begin{array}{rcl}\n",
    "    \\mathbb{P}\\left[I^{\\left(t\\right)} \\right]\n",
    "    & = &\n",
    "    \\displaystyle\\frac\n",
    "    {\\displaystyle\\int_0^\\infty n_\\text{I} \\hat{\\sigma} da}\n",
    "    {\\displaystyle\\int_0^\\infty \\left(n_\\text{S} + n_\\text{I} + n_\\text{R} + n_\\text{D}\\right)\\hat{\\sigma} da}\n",
    "\\end{array}\n",
    "$$\n",
    "\n",
    "We introduce the inverse probability weight:\n",
    "\n",
    "$$\n",
    "\\begin{array}{rcl}\n",
    "    \\hat{\\omega} \n",
    "    & = &\n",
    "    \\displaystyle\\frac\n",
    "    {\\displaystyle\\int_0^\\infty \\left(n_\\text{S} + n_\\text{I} + n_\\text{R} + n_\\text{D}\\right)\\hat{\\sigma} da}\n",
    "    {\\displaystyle\\int_0^\\infty \\left(n_\\text{S} + n_\\text{R} + n_\\text{D}\\right)\\hat{\\sigma} da}\n",
    "\\end{array}\n",
    "$$\n",
    "\n",
    "and solve for the hazard rate $h$, recognizing the number of social contacts $\\kappa$ for an age will be proportional to the dominant term from the age-age scattering cross section $\\kappa \\propto \\hat{\\sigma}$, and that the ratio of social contacts $\\kappa$ to the time $\\delta t$ is the daily average social contact rate $\\eta$:\n",
    "\n",
    "$$\n",
    "\\begin{array}{rcl}\n",
    "    h \n",
    "    & = &\n",
    "    \\displaystyle\\frac{\\kappa}{\\delta t} \\ln\\hat{\\omega}\\\\\n",
    "    & = &\n",
    "    \\eta\\hat{\\sigma} \\ln\\hat{\\omega}\n",
    "\\end{array}\n",
    "$$\n",
    "\n",
    "The daily average social contact rate $\\eta$ is approximately the [basic reproduction number](https://en.wikipedia.org/wiki/Basic_reproduction_number) divided by the duration of contagiousness. It measures the average rate that a single person engages in activities that in the presence of an infection would result in transmission. Although the hazard rate is stated in terms of transmission to susceptible members of the population we can exploit the symmetry of the age-age scattering cross section to determine the social contact rate $\\eta$ from the social contact rate of an infectious member of the population. For measles the daily average social contact rate is on the order of one transmissible contact per person day $\\eta \\approx 1 \\enspace\\text{contact} \\times \\left(\\text{person} \\times \\text{day} \\right)^{-1}$. In contrast, a sexually transmitted infection, such as HPV, in communities that engage in a high degree of long term monogamy has a rate that is on the order of one transmissible contact per thousand person days $\\eta \\approx 10^{-3} \\enspace\\text{contacts} \\times \\left(\\text{person} \\times \\text{day} \\right)^{-1}$; being largely driven by the rate at which sexual partners are changed.\n",
    "\n",
    "Simplifications\n",
    "---------------\n",
    "\n",
    "In balancing the physical plausibility of the model with the availability of data that provides a priori estimates of background parameters we will make ten approximations to simplify the formulation of the model:\n",
    "\n",
    "* The hazard rate is approximately constant over a single day.\n",
    "* Interactions are serialized, they happen one after another.\n",
    "* People are contagious within the day of infection, and are contagious until fully recovered or discharged. This is justified both by qualitative case studies published in peer reviewed journals, and anecdotal accounts published by journalist.\n",
    "* Hospitalization acts as an effective quarantine.\n",
    "* Mortality due to infection proceeds fast enough that fatalities due to infection are the only immediate absorbing state for both infected and hospitalized. This eliminates the transitions from infected and hospitalized to background fatality due to ageing.\n",
    "* The impact of infection is an equal acceleration to the hospitalization, recovery, discharge, and fatality hazards. Effectively the sicker the patient the slower they recover.\n",
    "* The impact of infection is fully transient, so that fatalities due to ageing among the recovered and discharged proceed at the same rate as those among the susceptible.\n",
    "* The fatality rate of the infected is the same as the fatality rate of the hospitalized, this is the most dubious of all the assumptions and simplifications, as it ignores the strong gatekeeper effects in hospitalization that a priori select for more severely ill patients.\n",
    "* The rate of recovery of the infected is the same as the rate of discharge of the hospitalized. This is primarily because we have well calibrated hospital discharge rates, but lack the equivalent rates for recovery in community.\n",
    "* Infection confers immunity for at least a year following resolution. The jury is still out on this approximation, as the duration of immunity maybe as short as months.\n",
    "\n",
    "Model Summary\n",
    "-------------\n",
    "\n",
    "Fully labeling all the states and the allowed transitions we then have the following diagram:\n",
    "\n",
    "![State Transition Diagram](../imgs/vonFoersterHazards.png \"State Transition Diagram\")\n",
    "\n",
    "Reading off the transitions from the diagram yields the hazard rate lower diagonal matrix:\n",
    "\n",
    "$$\n",
    "- H =\n",
    "\\begin{bmatrix}\n",
    "  -\\beta_\\text{age} e^{\\alpha_\\text{age} a} - \\eta\\hat{\\sigma} \\ln\\hat{\\omega} & 0 & 0 & 0 & 0 & 0 & 0 & 0\\\\\n",
    "  \\eta\\hat{\\sigma} \\ln\\hat{\\omega} & - \\gamma\\beta_\\text{age} e^{\\gamma\\alpha_\\text{age} a} - \\gamma\\beta_\\text{dis} e^{-\\gamma\\alpha_\\text{dis} a} - \\gamma\\beta_\\text{hos} e^{\\gamma\\alpha_\\text{hos} a} & 0 & 0 & 0 & 0 & 0 & 0\\\\\n",
    "  0 & \\gamma\\beta_\\text{hos} e^{\\gamma\\alpha_\\text{hos} a} & - \\gamma\\beta_\\text{age} e^{\\gamma\\alpha_\\text{age} a} - \\gamma\\beta_\\text{dis} e^{-\\gamma\\alpha_\\text{dis} a} & 0 & 0 & 0 & 0 & 0\\\\\n",
    "  0 & \\gamma\\beta_\\text{dis} e^{-\\gamma\\alpha_\\text{dis} a} & 0 & - \\gamma\\beta_\\text{age} e^{\\alpha_\\text{age} a} & 0 & 0 & 0 & 0\\\\\n",
    "  0 & 0 & \\gamma\\beta_\\text{dis} e^{-\\gamma\\alpha_\\text{dis} a} & 0 & -\\beta_\\text{age} e^{\\alpha_\\text{age} a} & 0 & 0 & 0\\\\\n",
    "  \\beta_\\text{age} e^{\\alpha_\\text{age} a} & 0 & 0 & \\beta_\\text{age} e^{\\alpha_\\text{age} a} & \\beta_\\text{age} e^{\\alpha_\\text{age} a} & 0 & 0 & 0\\\\\n",
    "  0 & \\gamma\\beta_\\text{age} e^{\\gamma\\alpha_\\text{age} a} & 0 & 0 & 0 & 0 & 0 & 0\\\\\n",
    "  0 & 0 & \\gamma\\beta_\\text{age} e^{\\gamma\\alpha_\\text{age} a} & 0 & 0 & 0 & 0 & 0\\\\\n",
    "\\end{bmatrix}\n",
    "$$\n",
    "\n",
    "Our model thus falls within the general class of [Phase Type Distrubtions](https://en.wikipedia.org/wiki/Phase-type_distribution), because a lower diagonal matrix represents a process that does not backtrack through states. Furthermore, applying spectral decomposition within the Lie algebra of hazard rates the hazard rate can be decomposed into summands of products of univariate endogenous scalar scattering rates that depend only on the age of the cohort $\\hat{\\sigma}$ and exogenous matrix hazard rates $H_\\hat{\\sigma}$ that depends on the population $\\vec{n}$:\n",
    "\n",
    "$$\n",
    "\\begin{array}{rcl}\n",
    "    H\\left(a, \\vec{n}\\right)\n",
    "    & = &\n",
    "    \\displaystyle \\sum_\\hat{\\sigma} \\hat{\\sigma}\\left(a\\right) H_\\hat{\\sigma}\\left(\\vec{n}\\right)\n",
    "\\end{array}\n",
    "$$\n",
    "\n",
    "The scattering rates are normalized to be either greater than one $\\hat{\\sigma} \\ge 1$ or less than one $\\hat{\\sigma} \\le 1$ for all ages and can be of any form such as logistic or exponential. The hazard rate matrix $H$ can be a constant, representing the endogenous self interaction within a single age cohort, such as with ageing. It is from the modest observation that we construct the updating function inside the main loop of our engine.\n",
    "\n",
    "By accumulating all the endogenous self interactions into a single matrix we can exploit the symmetry in age-age scattering cross section to write the exogenous term as a single product so that to first order the terms in our minimal age dependent communicable disease model are:\n",
    "\n",
    "$$\n",
    "\\begin{array}{rcl}\n",
    "    H\\left(a, \\vec{n}\\right)\n",
    "    & = &\n",
    "    H_\\text{end}\\left(a\\right) + \\hat{\\sigma}\\left(a\\right) H_\\text{exo}\\left(\\vec{n}\\right)\n",
    "\\end{array}\n",
    "$$\n",
    "\n",
    "Higher order exogenous summands of hazard rates and scattering cross sections are observable and include sex and age dependent processes such as biological maternity, and gender role and age dependent processes such as the casualties of misadventure, risky behaviors, dangerous employment, and eating disorders. The exogenous hazard rate and scattering cross section summand can even incorporate processes of resource saturation, such as finite hospital bed capacity. Begin by recognizing that resources can be in states of allocation, just as individuals can be in states of health. Even further resources evolve along an age $a$ time $t$ cohort diagonal of constant first opening time $a-t$, in effect \"*Resources are people too!*\". This leads to an auxiliary model of transitions between states of allocation of a finite resource that augments the minimal model of age dependent communicable disease. The simplest model has a resource cycling through three states of allocation from available $n_\\text{RA}$ to occupied $n_\\text{RO}$ to refractory $n_\\text{RR}$ and back to available, with an annihilation state of closed $n_\\text{RC}$, representing permanent loss of the resource, the auxiliary augmentation is:\n",
    "\n",
    "$$\n",
    "\\vec{n}_\\text{aux}\n",
    "=\n",
    "\\begin{bmatrix}\n",
    "    \\vdots\\\\\n",
    "    n_\\text{I}\\\\\n",
    "    n_\\text{H}\\\\\n",
    "    n_\\text{RA}\\\\\n",
    "    n_\\text{RO}\\\\\n",
    "    n_\\text{RR}\\\\\n",
    "    n_\\text{RC}\\\\\n",
    "    \\vdots\n",
    "\\end{bmatrix}\n",
    "\\begin{array}{cl}\n",
    "    \\rightarrow & \\text{Infected}\\\\\n",
    "    \\rightarrow & \\text{Hospitalized}\\\\\n",
    "    \\rightarrow & \\text{Available}\\\\\n",
    "    \\rightarrow & \\text{Occupied}\\\\\n",
    "    \\rightarrow & \\text{Refractory}\\\\\n",
    "    \\rightarrow & \\text{Closed}\n",
    "\\end{array}\n",
    "$$\n",
    "\n",
    "Of all the transitions only those from refractory to available $\\beta_{ref}$ and closed are endogenous to the resource, transitions from available to occupied and from occupied to refractory have an exogenous dependence of the entire population, because those transitions depend on the allocation of resources to consumers. Labeling the auxiliary states and transitions we have the following diagram:\n",
    "\n",
    "![Resource Allocation Diagram](../imgs/ResourceAllocation.png \"Resource Allocation Diagram\")\n",
    "\n",
    "Eliding the the closed state the modified components in the auxiliary hazard rate matrix is:\n",
    "\n",
    "$$\n",
    "- H_\\text{aux}\n",
    "=\n",
    "\\begin{bmatrix}\n",
    "    \\ddots & & & & & & \\\\\n",
    "    & - \\gamma\\beta_\\text{hos} e^{\\gamma\\alpha_\\text{hos} a} \\int_0^\\infty n_\\text{RA} da & 0 & 0 & 0 & 0 & \\\\\n",
    "    & \\gamma\\beta_\\text{hos} e^{\\gamma\\alpha_\\text{hos} a} \\int_0^\\infty n_\\text{RA} da & - \\gamma\\beta_\\text{age} e^{\\gamma\\alpha_\\text{age} a} - \\gamma\\beta_\\text{dis} e^{-\\gamma\\alpha_\\text{dis} a} & 0 & 0 & 0 & \\\\\n",
    "    & 0 & 0 & -\\int_0^\\infty \\gamma\\beta_\\text{hos} e^{\\gamma\\alpha_\\text{hos} a} n_\\text{I} da & 0 & \\beta_{ref} & \\\\\n",
    "    & 0 & 0 & \\int_0^\\infty \\gamma\\beta_\\text{hos} e^{\\gamma\\alpha_\\text{hos} a} n_\\text{I} da & - \\int_0^\\infty \\left( \\gamma\\beta_\\text{age} e^{\\gamma\\alpha_\\text{age} a} + \\gamma\\beta_\\text{dis} e^{-\\gamma\\alpha_\\text{dis} a} \\right) n_{H} da & 0 & \\\\\n",
    "    & 0 & 0 & 0 & \\int_0^\\infty \\left(\\gamma\\beta_\\text{age} e^{\\gamma\\alpha_\\text{age} a} + \\gamma\\beta_\\text{dis} e^{-\\gamma\\alpha_\\text{dis} a} \\right) n_{H} da & -\\beta_{ref} & \\\\\n",
    "    & & & & & & \\ddots\n",
    "\\end{bmatrix}\n",
    "$$\n",
    "\n",
    "From the auxiliary augmentation model we can interpret our minimal model of age dependent communicable diseases as the counter-factual estimation of hospital utilization in the asymptotic limit of infinite hospital capacity. We implement the minimal model, in the demonstration module `CommunicableDisease`, by overloading just four stub functions exported by the `vonFoersterHazards` module."
   ]
  },
  {
   "cell_type": "code",
   "execution_count": null,
   "metadata": {},
   "outputs": [],
   "source": [
    "?CommunicableDisease"
   ]
  },
  {
   "cell_type": "markdown",
   "metadata": {},
   "source": [
    "Starting with the exogenous birth rate as a function of the current population. Which in our model will simply return a constant vector representing the observed daily birth rate."
   ]
  },
  {
   "cell_type": "code",
   "execution_count": 12,
   "metadata": {},
   "outputs": [
    {
     "name": "stdout",
     "output_type": "stream",
     "text": [
      "search: \u001b[0m\u001b[1mb\u001b[22m\u001b[0m\u001b[1mi\u001b[22m\u001b[0m\u001b[1mr\u001b[22m\u001b[0m\u001b[1mt\u001b[22m\u001b[0m\u001b[1mh\u001b[22m\u001b[0m\u001b[1mr\u001b[22m\u001b[0m\u001b[1ma\u001b[22m\u001b[0m\u001b[1mt\u001b[22m\u001b[0m\u001b[1me\u001b[22m\n",
      "\n"
     ]
    },
    {
     "data": {
      "text/latex": [
       "\\begin{verbatim}\n",
       "birthrate(a, n)\n",
       "\\end{verbatim}\n",
       "Stub function to be overloaded in implementation. Compute the extensive birth rate vector from ages a and population occupancies n.\n",
       "\n"
      ],
      "text/markdown": [
       "```\n",
       "birthrate(a, n)\n",
       "```\n",
       "\n",
       "Stub function to be overloaded in implementation. Compute the extensive birth rate vector from ages a and population occupancies n.\n"
      ],
      "text/plain": [
       "\u001b[36m  birthrate(a, n)\u001b[39m\n",
       "\n",
       "  Stub function to be overloaded in implementation. Compute the extensive\n",
       "  birth rate vector from ages a and population occupancies n."
      ]
     },
     "execution_count": 12,
     "metadata": {},
     "output_type": "execute_result"
    }
   ],
   "source": [
    "?birthrate"
   ]
  },
  {
   "cell_type": "markdown",
   "metadata": {},
   "source": [
    "Next we overload the endogenous age scatter rate function `scatterrate` as a function of a single age, return a spectral decomposition vector:"
   ]
  },
  {
   "cell_type": "code",
   "execution_count": null,
   "metadata": {},
   "outputs": [],
   "source": [
    "?scatterrate"
   ]
  },
  {
   "cell_type": "markdown",
   "metadata": {},
   "source": [
    "The `scatterrate` vector will then be broadcast multiplied over the matrices returned by the overload of the `hazardrate` function which returns the spectral decomposition of the exogenous hazard rate as an array:"
   ]
  },
  {
   "cell_type": "code",
   "execution_count": 11,
   "metadata": {},
   "outputs": [
    {
     "name": "stdout",
     "output_type": "stream",
     "text": [
      "search: \u001b[0m\u001b[1mh\u001b[22m\u001b[0m\u001b[1ma\u001b[22m\u001b[0m\u001b[1mz\u001b[22m\u001b[0m\u001b[1ma\u001b[22m\u001b[0m\u001b[1mr\u001b[22m\u001b[0m\u001b[1md\u001b[22m\u001b[0m\u001b[1mr\u001b[22m\u001b[0m\u001b[1ma\u001b[22m\u001b[0m\u001b[1mt\u001b[22m\u001b[0m\u001b[1me\u001b[22m\n",
      "\n"
     ]
    },
    {
     "data": {
      "text/latex": [
       "\\begin{verbatim}\n",
       "hazardrate(a, n)\n",
       "\\end{verbatim}\n",
       "Stub function to be overloaded in implementation. Compute the extensive hazard rate matrix from ages a and population occupancies n.\n",
       "\n",
       "\\rule{\\textwidth}{1pt}\n",
       "\\begin{verbatim}\n",
       "hazardrate(a, H)\n",
       "\\end{verbatim}\n",
       "Stub function to be overloaded in implementation. Compute the intensive hazard rate matrix from the extensive hazard rate matrix and a given age a.\n",
       "\n"
      ],
      "text/markdown": [
       "```\n",
       "hazardrate(a, n)\n",
       "```\n",
       "\n",
       "Stub function to be overloaded in implementation. Compute the extensive hazard rate matrix from ages a and population occupancies n.\n",
       "\n",
       "---\n",
       "\n",
       "```\n",
       "hazardrate(a, H)\n",
       "```\n",
       "\n",
       "Stub function to be overloaded in implementation. Compute the intensive hazard rate matrix from the extensive hazard rate matrix and a given age a.\n"
      ],
      "text/plain": [
       "\u001b[36m  hazardrate(a, n)\u001b[39m\n",
       "\n",
       "  Stub function to be overloaded in implementation. Compute the extensive\n",
       "  hazard rate matrix from ages a and population occupancies n.\n",
       "\n",
       "  ────────────────────────────────────────────────────────────────────────────\n",
       "\n",
       "\u001b[36m  hazardrate(a, H)\u001b[39m\n",
       "\n",
       "  Stub function to be overloaded in implementation. Compute the intensive\n",
       "  hazard rate matrix from the extensive hazard rate matrix and a given age a."
      ]
     },
     "execution_count": 11,
     "metadata": {},
     "output_type": "execute_result"
    }
   ],
   "source": [
    "?hazardrate"
   ]
  },
  {
   "cell_type": "markdown",
   "metadata": {},
   "source": [
    "Finally we overload the endogenous hazard rate as a function of a single age."
   ]
  },
  {
   "cell_type": "markdown",
   "metadata": {},
   "source": [
    "To help elucidate the hazard rate calculation we have built utility functions for the Gompertz rate, Makeham rate and then curry the observed parameters into the specific rates of each transition."
   ]
  },
  {
   "cell_type": "markdown",
   "metadata": {},
   "source": [
    "Materials\n",
    "---------\n",
    "\n",
    "We will use our previous work on the [Hazard Rate Zoo](https://public.tableau.com/profile/gompertz.makeham#!/vizhome/AlbertaMortalityandUtilizationHazardRatesbyAgeandSex/Welcome) to set the boundary conditions and to determine credible estimates for the ranges of the parameters that describe the background evolution dynamics. To determine the ageing acceleration factor we will use the age dependent case fatality rates compiled on [Our World in Data](https://ourworldindata.org/coronavirus#current-data-across-countries-suggests-that-the-elderly-are-most-at-risk), and assume the average case lasts for approximately one month. The suppression ratio can be estimated from the [Google community mobility reports](https://www.google.com/covid19/mobility/).\n",
    "\n",
    "|Parameter          |Name                             |Estimate          |Units                                               |Notes                                                 |\n",
    "|-------------------|---------------------------------|------------------|----------------------------------------------------|------------------------------------------------------|\n",
    "|$\\alpha_\\text{age}$|Background ageing mortality      |$\\frac{\\ln 2}{7}$ |$\\frac{1}{\\text{years}}$                            |Mortality doubles every $7$ years.                    |\n",
    "|$\\beta_\\text{age}$ |Background mortality rate        |$\\frac{1}{32000}$ |$\\frac{\\text{deaths}}{\\text{person year}}$          |$1$ death every $1000$ person years at $35$.          |\n",
    "|$\\alpha_\\text{hos}$|Background ageing hospitalization|$\\frac{\\ln 2}{14}$|$\\frac{1}{\\text{years}}$                            |Hospitalizations double every $14$ years.             |\n",
    "|$\\beta_\\text{hos}$ |Background hospitalization rate  |$\\frac{1}{320}$   |$\\frac{\\text{hospitalizations}}{\\text{person year}}$|$1$ hospitalization every $40$ person years at $42$.  |\n",
    "|$\\alpha_\\text{dis}$|Background ageing discharge      |$\\frac{\\ln 2}{49}$|$\\frac{1}{\\text{years}}$                            |Hospital stay doubles every $49$ years.               |\n",
    "|$\\beta_\\text{dis}$ |Background discharge rate        |$\\frac{1}{16}$    |$\\frac{\\text{discharges}}{\\text{person day}}$       |$1$ discharge every $8$ person days at $49$.          |\n",
    "|$\\alpha_\\text{pub}$|Puberty rate                     |$\\frac{\\ln 2}{2}$ |$\\frac{1}{\\text{years}}$                            |Social contacts doubling every $2$ years.             |\n",
    "|$\\beta_\\text{pub}$ |Pubescent mid-point              |$16$              |$\\text{years}$                                      |Doubling peaks at $16$.                               |\n",
    "|$\\eta$             |Maximum contact rate             |$10^{-3}$ to $1$  |$\\frac{\\text{contacts}}{\\text{person day}}$         |Maximum transmissible contacts in a day.              |\n",
    "|$\\frac{\\eta_\\text{sup}}{\\eta}$|Suppression ratio     |$\\frac{1}{3}$     |Dimensionless                                       |Mobility is one third lower in Western Canada.        |\n",
    "|$\\gamma$           |Infection ageing acceleration    |$1.2$ to $1.4$    |Dimensionless                                       |$15\\%$ mortality at $80$ after $1$ month of infection.|\n",
    "\n",
    "Having downloaded the hazard rate data set and the demographic pyramid data set from the Hazard Rate Zoo hosted on Tableau Public we will estimate the parameters for ageing fatality rates, hospital admission rates, and hospital discharge rates, using the Gadfly, DataFrames, and CSV Julia packages."
   ]
  },
  {
   "cell_type": "code",
   "execution_count": null,
   "metadata": {},
   "outputs": [],
   "source": [
    "?CalibrateBaseline"
   ]
  },
  {
   "cell_type": "markdown",
   "metadata": {},
   "source": [
    "Estimating the Infection Ageing Acceleration\n",
    "--------------------------------------------\n",
    "\n",
    "From our work on the Hazard Rate Zoo we know that the background hazard rate for fatalities due to ageing, in round numbers, is a doubling of mortality every $7$ years, with $1$ fatality in $1000$ person years at $35$ years of age:\n",
    "\n",
    "$$\n",
    "\\begin{array}{rcl}\n",
    "    h\n",
    "    & = &\n",
    "    \\displaystyle\\frac{e^{\\frac{\\ln 2}{7}a}}{32000}\n",
    "\\end{array}\n",
    "$$\n",
    "\n",
    "Furthermore during infection at $80$ years of age there is a $15\\%$ fatality rate over a month of infection, and thus $1.8$ fatalities per person year. To estimate the infection ageing acceleration parameter $\\gamma$ we have to solve the equation:\n",
    "\n",
    "$$\n",
    "\\begin{array}{rcl}\n",
    "    \\displaystyle\\frac{\\gamma e^{\\gamma\\frac{\\ln 2}{7}a}}{32000}\n",
    "    & = &\n",
    "    1.8\n",
    "\\end{array}\n",
    "$$\n",
    "\n",
    "We can find the root by a poor man's fixed point recursion, with the trial solution $\\gamma=1.34615$:\n",
    "\n",
    "$$\n",
    "\\begin{array}{rcl}\n",
    "    57600 e^{-\\gamma\\frac{\\ln 2}{7}80}\n",
    "    & = &\n",
    "    \\gamma\n",
    "\\end{array}\n",
    "$$\n",
    "\n",
    "The root is unique because the left hand side is decreasing in $\\gamma$ and the right hand side is increasing in $\\gamma$. This yields a reasonable range of a $20\\%$ to $40\\%$ increase in their rate of ageing while infected. Rounding off to $25\\%$ we have the interpretation that while infected a $30$ year old faces the same mortality risk as a healthy $45$ year old, and more gravely an infected $80$ year old faces the same mortality risk as a healthy $120$ year old. This leads to a concise heuristic interpretation of the social burden of the infection. It is not that it causes preventable deaths it is that it causes all the deaths that would have occurred over the next three years to occur in the next three months."
   ]
  },
  {
   "cell_type": "code",
   "execution_count": 1,
   "metadata": {},
   "outputs": [
    {
     "data": {
      "text/plain": [
       "1.346495830673008"
      ]
     },
     "execution_count": 1,
     "metadata": {},
     "output_type": "execute_result"
    }
   ],
   "source": [
    "57600*exp(-1.34615*log(2)*80/7)"
   ]
  },
  {
   "cell_type": "markdown",
   "metadata": {},
   "source": [
    "Discussion\n",
    "----------\n",
    "\n",
    "If the delivery of health care was highly age segregated we would have to maintain detailed balance of the [endemic steady state](https://en.wikipedia.org/wiki/Endemic_%28epidemiology%29) in each age, requiring an age dependent suppression of the rate of contact from $\\eta$ to $\\eta_\\text{sup}$ in the Makeham process:\n",
    "\n",
    "$$\n",
    "\\begin{array}{rcl}\n",
    "    \\eta_\\text{sup} \\hat{\\sigma} \\ln \\hat{\\omega}\n",
    "    & = &\n",
    "    \\gamma\\beta_\\text{age} e^{\\gamma\\alpha_\\text{age} a}\n",
    "    + \\gamma\\beta_\\text{dis} e^{-\\gamma\\alpha_\\text{dis} a}\n",
    "    + \\gamma\\beta_\\text{hos} e^{\\gamma\\alpha_\\text{hos} a}\n",
    "\\end{array}\n",
    "$$\n",
    "\n",
    "For health care system that treats a broad demographic relatively uniformly we need only maintain global balance across the ages to ensure the integrity of health care deliver, in which case the suppressed contact rate $\\eta_\\text{sup}$ is age independent:\n",
    "\n",
    "$$\n",
    "\\begin{array}{rcl}\n",
    "    \\displaystyle\\eta_\\text{sup} \\int_0^\\infty \\hat{\\sigma} n_{S} da \\ln \\hat{\\omega}\n",
    "    & = &\n",
    "    \\displaystyle \\gamma \\int_0^\\infty \\left( \\beta_\\text{age} e^{\\gamma\\alpha_\\text{age} a}\n",
    "    + \\beta_\\text{dis} e^{-\\gamma\\alpha_\\text{dis} a}\n",
    "    + \\beta_\\text{hos} e^{\\gamma\\alpha_\\text{hos} a}\\right) n_{I} da\n",
    "\\end{array}\n",
    "$$\n",
    "\n",
    "Unfortunately most suppression strategies keep the basic reproduction number below [criticality](https://en.wikipedia.org/wiki/Nuclear_reactor_physics#Criticality), resulting in incomplete saturation of the susceptible population, and thus a large future vulnerability due to a lack of [herd immunity](https://en.wikipedia.org/wiki/Herd_immunity). To maintain steady state near to criticality we can advance the cutoff $c_t$ of suppression strategies through age, much like pulling the [control rods](https://en.wikipedia.org/wiki/Control_rod) out of a nuclear reactor:\n",
    "\n",
    "$$\n",
    "\\begin{array}{rcl}\n",
    "    \\displaystyle \\left( \\eta \\int_0^{c_t} \\hat{\\sigma} n_{S} da\n",
    "    +\\eta_\\text{sup} \\int_{c_t}^\\infty \\hat{\\sigma} n_{S} da \\right) \\ln \\hat{\\omega}_t\n",
    "    & = &\n",
    "    \\displaystyle \\gamma \\int_0^\\infty \\left( \\beta_\\text{age} e^{\\gamma\\alpha_\\text{age} a}\n",
    "    + \\beta_\\text{dis} e^{-\\gamma\\alpha_\\text{dis} a}\n",
    "    + \\beta_\\text{hos} e^{\\gamma\\alpha_\\text{hos} a}\\right) n_{I} da\n",
    "\\end{array}\n",
    "$$\n",
    "\n",
    "where the inverse probability weight $\\hat{\\omega}_t$ becomes dependent on the cutoff $c_t$:\n",
    "\n",
    "$$\n",
    "\\begin{array}{rcl}\n",
    "    \\hat{\\omega}_t\n",
    "    & = &\n",
    "    \\displaystyle\\frac{\\displaystyle\\int_0^{c_t}\\left(n_\\text{S} + n_\\text{I} + n_\\text{R} + n_\\text{D}\\right)\\hat{\\sigma} da + \\frac{\\eta_\\text{sup}}{\\eta}\\int_{c_t}^\\infty\\left(n_\\text{S} + n_\\text{I} + n_\\text{R} + n_\\text{D}\\right)\\hat{\\sigma} da}\n",
    "    {\\displaystyle\\int_0^{c_t}\\left(n_\\text{S} + n_\\text{R} + n_\\text{D}\\right)\\hat{\\sigma} da + \\frac{\\eta_\\text{sup}}{\\eta}\\int_{c_t}^\\infty\\left(n_\\text{S} + n_\\text{R} + n_\\text{D}\\right)\\hat{\\sigma} da}\n",
    "\\end{array}\n",
    "$$\n",
    "\n",
    "As mentioned earlier, the ratio of the suppressed daily contact rate $\\eta$ to the background daily contact rate $\\eta_\\text{sup}$ can be estimated from the Google community mobility reports. Surprisingly the cutoff $c_t$ can be estimated without a large amount of simulation. Begin by noting that the right hand side of the cutoff balance equation is the sum of the daily recoveries, community deaths, and hospitalizations $r_t$. This number can be readily observed with an adequate public health surveillance system. To understand the right hand side note that initially the integral is simply the cumulative effectively available population $F\\left(c_t\\right)$, which can be determined from public sector statistical bodies:\n",
    "\n",
    "$$\n",
    "\\begin{array}{rcl}\n",
    "    F\\left(c_t\\right)\n",
    "    & = &\n",
    "    \\displaystyle \\int_0^{c_t} \\hat{\\sigma} n_{S} da\n",
    "\\end{array}\n",
    "$$\n",
    "\n",
    "Likewise, $\\hat{\\omega}_t$ can be roughly estimated as the ratio of the entire population to those not currently infected, with the approximation holding best at the early and late values of $c_t$. To determine $c_t$ we then simply need to read off the graph of the cumulative effectively available population $F\\left(c_t\\right)$ the point at which the following solution holds:\n",
    "\n",
    "$$\n",
    "\\begin{array}{rcl}\n",
    "    F\\left(c_t\\right)\n",
    "    & = &\n",
    "    \\displaystyle \\frac{1}{1 - \\frac{\\eta_\\text{sup}}{\\eta}} \\left(\\frac{r}{\\eta\\ln\\hat{\\omega}_t} - \\frac{\\eta_\\text{sup}}{\\eta} F\\left(\\infty\\right)\\right)\n",
    "\\end{array}\n",
    "$$\n",
    "\n",
    "While the specific parameters will vary considerably between geopolitical jurisdictions, particularly the demographics,, infection ageing acceleration, suppression ratio, health care system capacity, background daily contact, ageing, hospitalization, and discharge rates, the model itself is universally applicable. By establishing a common universal model we can set a lower bound on the Nash equilibrium in the competition to reopen society that will naturally arise between geopolitical jurisdictions."
   ]
  },
  {
   "cell_type": "code",
   "execution_count": null,
   "metadata": {},
   "outputs": [],
   "source": []
  }
 ],
 "metadata": {
  "kernelspec": {
   "display_name": "Julia 1.0.4",
   "language": "julia",
   "name": "julia-1.0"
  },
  "language_info": {
   "file_extension": ".jl",
   "mimetype": "application/julia",
   "name": "julia",
   "version": "1.0.4"
  }
 },
 "nbformat": 4,
 "nbformat_minor": 4
}
