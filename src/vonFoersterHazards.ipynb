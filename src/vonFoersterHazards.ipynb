{
 "cells": [
  {
   "cell_type": "markdown",
   "metadata": {},
   "source": [
    "# von Foerster Hazard Rate Models\n",
    "\n",
    "## Preamble\n",
    "\n",
    "*All [epidemiological models](https://en.wikipedia.org/wiki/Compartmental_models_in_epidemiology) are [Malthusian](https://en.wikipedia.org/wiki/Malthusian_growth_model). Fortunately [Malthus](https://en.wikipedia.org/wiki/Thomas_Robert_Malthus) was an optimist. His model postulates that a population will continuously approach [equilibrium](https://en.wikipedia.org/wiki/Ecological_stability) with the environment, without [overshoot](https://en.wikipedia.org/wiki/Overshoot_%28population%29) or [catastrophic collapse](https://en.wikipedia.org/wiki/Ecological_collapse).*\n",
    "\n",
    "## Acknowledgment\n",
    "\n",
    "While I might be the first to rigorously chart a formal theory of biological ageing processes, from mathematical first principles, I cannot claim to be the first to tread this territory. Unbeknownst to me Dr. Nicholas Stroustrup has been diligently synthesizing the informal mathematical concepts, [for a general audience](https://arxiv.org/abs/1805.06681), that provide the landmarks for my cartographic efforts. \n",
    "\n",
    "## Background\n",
    "\n",
    "The canonical von Foerster relationship states that for a stochastic process on age $a$ and time $t$ the infinitesimal generator of probability is the kernel of the evolution of the expectation. Formally, given the [hazard rate](https://en.wikipedia.org/wiki/Hazard_ratio) $h$ of the stopping time statistic $A$ of an age dependent stochastic process:\n",
    "\n",
    "$$\n",
    "\\mathbb{P}\\left[ A = a \\parallel A \\ge a \\right] = h\n",
    "$$\n",
    "\n",
    "and the expectation of the density of states occupancy statistic $N^{\\left(a,t\\right)}$:\n",
    "\n",
    "$$\n",
    "\\mathbb{E}\\left[N^{\\left(a,t\\right)}\\right]=n\n",
    "$$\n",
    "\n",
    "the hazard rate $h$ is the kernel of the [von Foerster forward evolution operator](https://en.wikipedia.org/wiki/Von_Foerster_equation) acting on the expected density of states occupancy $n$ along the age $a$ and time $t$ diagonal:\n",
    "\n",
    "$$\n",
    "\\partial_a n + \\partial_t n = - h \\cdot n\n",
    "$$\n",
    "\n",
    "For a general population the hazard rate is a  matrix of transition rates with fixed column sums $\\vec{1}^\\dagger H = 0$, ensuring local conservation of probability. Thus, the transitions of the density of states occupancy statistics vector $\\vec{N}^{\\left(a,t\\right)}$ from density of state occupancy vector $\\vec{m}$ to the density of state occupancy vector $\\vec{n}$ at time $t$ yields a hazard rate matrix:\n",
    "\n",
    "$$\n",
    "\\mathbb{P}\\left[ \\vec{N}^{\\left(a,t\\right)} = \\vec{n} \\parallel \\vec{N}^{\\left(a,0\\right)} = \\vec{m} \\right] = H\n",
    "$$\n",
    "\n",
    "In turn the, possibly inhomogeneous, hazard rate matrix determines the evolution of the density of states occupancy vector field:\n",
    "\n",
    "$$\n",
    "\\partial_a \\vec{n} + \\partial_t \\vec{n} = - H \\vec{n}\n",
    "$$\n",
    "\n",
    "We will use the preceding density of states occupancy vector equation to phenomenologically model the age dependent dynamics of communicable diseases, subject to the boundary conditions of an initial demographic $\\vec{n}(a,0)$, and constant birth rate $\\vec{n}(0,t)=\\vec{n}_\\text{B}$.\n",
    "\n",
    "## Methods\n",
    "\n",
    "In general when we are unable to observe or model every transition, such as when the integral of the hazard rate is taken over a duration larger than the smallest [characteristic dwelling time](https://en.wikipedia.org/wiki/Relaxation_%28physics%29) of the states, the probability density matrix requires calculation of the [adjoint derivative](https://en.wikipedia.org/wiki/Derivative_of_the_exponential_map) of the cumulative probability matrix, where the dot is the [currying](https://en.wikipedia.org/wiki/Currying) application of the [adjoint operator](https://en.wikipedia.org/wiki/Adjoint_representation) $ad_X Y=XY-YX$ to the parenthesized hazard rate $H$:\n",
    "\n",
    "$$\n",
    "\\mathbb{P}\\left[ T_{i \\rightarrow j} = t \\right] = \\left[ \\frac{e^{-ad_{\\int_0^t H ds} \\cdot} - 1}{ad_{\\int_0^t H ds} \\cdot} \\right] \\left(H\\right)  e^{- \\int_0^t H ds}\n",
    "$$\n",
    "\n",
    "Fortunately if the duration of integration is sufficiently short so that we are capturing every transition we can exploit the observation that the von Foerster operator evolves the continuous density of states $\\vec{n}$ along the fixed age $a$ and time $t$ diagonal to discretize the evolution operator on an equal [finite element](https://en.wikipedia.org/wiki/Finite_element_method) scale of one day in age and time $\\Delta a = \\Delta t = 1 \\enspace\\text{day}$:\n",
    "\n",
    "$$\n",
    "\\vec{n}\\left(a + \\Delta t, t + \\Delta t \\right) = \\vec{n}\\left(a, t\\right) - H \\vec{n}\\left(a, t\\right) \\cdot \\Delta t\n",
    "$$\n",
    "\n",
    "To capture the subtly of integer occupancy in the density of states $\\hat{n}$ we need to use explicit transition probabilities. Assuming that for a single person only one transition occurs in a single day $\\Delta a = \\Delta t = 1 \\enspace\\text{day}$ then we can count the number of transitions between states $i \\ne j$, with the approximation that the integral of the hazard is linear in time, which is true if the hazard is roughly constant over a single day:\n",
    "\n",
    "$$\n",
    "\\begin{array}{rcl}\n",
    "    n_{i \\rightarrow j} & = & \\mathbb{E}\\left[ N^{\\left(a,\\Delta t \\right)}_{i \\rightarrow j} \\right]\\\\\n",
    "                        & = & n_i \\mathbb{P}\\left[ T_{i \\rightarrow j} \\le \\Delta t \\right]\\\\\n",
    "                        & = & -n_i \\frac{h_{i \\rightarrow j}}{h_{i \\rightarrow i}}e^{-h_{i \\rightarrow i} \\Delta t}\n",
    "\\end{array}\n",
    "$$\n",
    "\n",
    "To ensure that we can work with the nuances of integer counts without excluding low hazard transitions due to an arbitrary choice in rounding we have to introduce two more steps. First, for the fractional part of the count we draw a value $u$ from the uniform probability distribution on $\\left[0,1\\right)$ incrementing by $1$ if the fractional part exceeds the draw $u$ and incrementing by $0$ otherwise. Second, we conserve state occupancy $n_i$ by ordering the transition counts $n_{i \\rightarrow j}$ from largest to smallest cutting off immediately before the cumulative losses exceed the state occupancy $n_i$.\n",
    "\n",
    "You will note that the transition probabilities out of a single state are a [multinomial distribution](https://en.wikipedia.org/wiki/Multinomial_distribution) so that the covariance is given by the multinomial covariance matrix. \n",
    "\n",
    "$$\n",
    "\\begin{array}{rcl}\n",
    "    \\mathbb{C}ov\\left[ N^{\\left(a, t \\right)}_{i \\rightarrow j}, N^{\\left(a, t \\right)}_{i \\rightarrow k} \\right]\n",
    "    & = & \n",
    "    n_i \\frac{h_{i \\rightarrow j}}{h_{i \\rightarrow i}} \\frac{h_{i \\rightarrow k}}{h_{i \\rightarrow i}}e^{-2 h_{i \\rightarrow i} t}\\\\\n",
    "    \\mathbb{V}ar\\left[N^{\\left(a, t \\right)}_{i \\rightarrow i} \\right]\n",
    "    & = &\n",
    "    n_i e^{-h_{i \\rightarrow i} t} \\left( 1 - e^{-h_{i \\rightarrow i} t} \\right)\n",
    "\\end{array}\n",
    "$$\n",
    "\n",
    "It follows from the [Levy-Khintchine](https://en.wikipedia.org/wiki/L%C3%A9vy_process#L%C3%A9vy%E2%80%93Khintchine_representation) characterization and the [law of total covariance](https://en.wikipedia.org/wiki/Law_of_total_covariance) that the covariance of the expectation of the density of states occupancy $n$ at age $a$ time $t$ can be recursively calculated from the prior covariances of the transitions into each states:\n",
    "\n",
    "$$\n",
    "\\begin{array}{rcl}\n",
    "    \\mathbb{C}ov\\left[ N^{\\left(a, t \\right)}_i, N^{\\left(a, t \\right)}_j \\right] \n",
    "    & = &\n",
    "    \\displaystyle\\sum_{\\Delta t=0}^t \\sum_{k} \\mathbb{C}ov\\left[ N^{\\left(a, \\Delta t \\right)}_{k \\rightarrow i}, N^{\\left(a, \\Delta t \\right)}_{k \\rightarrow j} \\right]\\\\\n",
    "    & = &\n",
    "    \\displaystyle \\sum_{\\Delta t=0}^t \\sum_{k} n_k \\frac{h_{k \\rightarrow i} h_{k \\rightarrow j}}{h_{k \\rightarrow k}} e^{-2 h_{k \\rightarrow k} \\Delta t}\\\\\n",
    "    \\mathbb{V}ar\\left[ N^{\\left(a, t \\right)}_i \\right] \n",
    "    & = &\n",
    "    \\displaystyle\\sum_{\\Delta t=0}^t \\mathbb{V}ar\\left[N^{\\left(a, \\Delta t \\right)}_{i \\rightarrow i} \\right]\\\\\n",
    "    & = &\n",
    "    \\displaystyle\\sum_{\\Delta t=0}^t n_i e^{-h_{i \\rightarrow i} \\Delta t} \\left( 1 - e^{-h_{i \\rightarrow i} \\Delta t} \\right)\n",
    "\\end{array}\n",
    "$$\n",
    "\n",
    "The covariance estimation can be can be implemented as a recursive sum between iterations in the simulations."
   ]
  },
  {
   "cell_type": "code",
   "execution_count": 18,
   "metadata": {},
   "outputs": [],
   "source": [
    "using vonFoersterHazards"
   ]
  },
  {
   "cell_type": "markdown",
   "metadata": {},
   "source": [
    "The first utility to demonstrate is the random truncation function. We supply it with a random float repeated and broadcast the function call:"
   ]
  },
  {
   "cell_type": "code",
   "execution_count": 2,
   "metadata": {},
   "outputs": [
    {
     "name": "stdout",
     "output_type": "stream",
     "text": [
      "search: \u001b[0m\u001b[1mr\u001b[22m\u001b[0m\u001b[1ma\u001b[22m\u001b[0m\u001b[1mn\u001b[22m\u001b[0m\u001b[1md\u001b[22m\u001b[0m\u001b[1mo\u001b[22m\u001b[0m\u001b[1mm\u001b[22m\u001b[0m\u001b[1mt\u001b[22m\u001b[0m\u001b[1mr\u001b[22m\u001b[0m\u001b[1mu\u001b[22m\u001b[0m\u001b[1mn\u001b[22m\u001b[0m\u001b[1mc\u001b[22m\u001b[0m\u001b[1ma\u001b[22m\u001b[0m\u001b[1mt\u001b[22m\u001b[0m\u001b[1me\u001b[22m\n",
      "\n"
     ]
    },
    {
     "data": {
      "text/latex": [
       "\\begin{verbatim}\n",
       "randomtruncate(x)\n",
       "\\end{verbatim}\n",
       "Randomly return the floor or the ceiling by comparing the fractional part of the number to a sample from the uniform distribution on [0,1). If the fraction is greater than the random sample return the ceiling otherwise return the floor.\n",
       "\n"
      ],
      "text/markdown": [
       "```\n",
       "randomtruncate(x)\n",
       "```\n",
       "\n",
       "Randomly return the floor or the ceiling by comparing the fractional part of the number to a sample from the uniform distribution on [0,1). If the fraction is greater than the random sample return the ceiling otherwise return the floor.\n"
      ],
      "text/plain": [
       "\u001b[36m  randomtruncate(x)\u001b[39m\n",
       "\n",
       "  Randomly return the floor or the ceiling by comparing the fractional part of\n",
       "  the number to a sample from the uniform distribution on [0,1). If the\n",
       "  fraction is greater than the random sample return the ceiling otherwise\n",
       "  return the floor."
      ]
     },
     "execution_count": 2,
     "metadata": {},
     "output_type": "execute_result"
    }
   ],
   "source": [
    "?randomtruncate"
   ]
  },
  {
   "cell_type": "code",
   "execution_count": 16,
   "metadata": {},
   "outputs": [
    {
     "name": "stdout",
     "output_type": "stream",
     "text": [
      "[9.40949, 9.40949, 9.40949, 9.40949, 9.40949, 9.40949, 9.40949, 9.40949, 9.40949, 9.40949]\n",
      "[9, 9, 10, 9, 9, 10, 10, 10, 9, 10]\n"
     ]
    }
   ],
   "source": [
    "x=fill(10*rand(),10)\n",
    "println(x)\n",
    "println(randomtruncate.(x))"
   ]
  },
  {
   "cell_type": "markdown",
   "metadata": {},
   "source": [
    "Next we demonstrate the, unsafe, sum conservation function on random vector of a positive integers:"
   ]
  },
  {
   "cell_type": "code",
   "execution_count": 2,
   "metadata": {},
   "outputs": [
    {
     "name": "stdout",
     "output_type": "stream",
     "text": [
      "search: \u001b[0m\u001b[1mc\u001b[22m\u001b[0m\u001b[1mo\u001b[22m\u001b[0m\u001b[1mn\u001b[22m\u001b[0m\u001b[1ms\u001b[22m\u001b[0m\u001b[1me\u001b[22m\u001b[0m\u001b[1mr\u001b[22m\u001b[0m\u001b[1mv\u001b[22m\u001b[0m\u001b[1me\u001b[22m\u001b[0m\u001b[1ms\u001b[22m\u001b[0m\u001b[1mu\u001b[22m\u001b[0m\u001b[1mm\u001b[22m\u001b[0m\u001b[1m!\u001b[22m\n",
      "\n"
     ]
    },
    {
     "data": {
      "text/latex": [
       "\\begin{verbatim}\n",
       "conservesum!(A, a)\n",
       "\\end{verbatim}\n",
       "In place enforcement that the sum of the columns of A equals the corresponding element of a. Note this assumes the inputs are well formed, there are no bounds or sanity checks.\n",
       "\n"
      ],
      "text/markdown": [
       "```\n",
       "conservesum!(A, a)\n",
       "```\n",
       "\n",
       "In place enforcement that the sum of the columns of A equals the corresponding element of a. Note this assumes the inputs are well formed, there are no bounds or sanity checks.\n"
      ],
      "text/plain": [
       "\u001b[36m  conservesum!(A, a)\u001b[39m\n",
       "\n",
       "  In place enforcement that the sum of the columns of A equals the\n",
       "  corresponding element of a. Note this assumes the inputs are well formed,\n",
       "  there are no bounds or sanity checks."
      ]
     },
     "execution_count": 2,
     "metadata": {},
     "output_type": "execute_result"
    }
   ],
   "source": [
    "?conservesum!"
   ]
  },
  {
   "cell_type": "code",
   "execution_count": 17,
   "metadata": {},
   "outputs": [
    {
     "name": "stdout",
     "output_type": "stream",
     "text": [
      "[9, 4, 8, 2, 10, 1, 10, 8, 10, 0]\n",
      "62\n",
      "[8, 4, 7, 2, 9, 1, 9, 8, 9, 0]\n",
      "57\n"
     ]
    }
   ],
   "source": [
    "y=rand(0:10,10)\n",
    "println(y)\n",
    "println(sum(y))\n",
    "println(conservesum!(y,sum(y)-5))\n",
    "println(sum(y))"
   ]
  },
  {
   "cell_type": "markdown",
   "metadata": {},
   "source": [
    "## Compartments\n",
    "\n",
    "Even the most concise model of age dependent communicable diseases, in which we only account for a handful of observed states and transitions, still requires $8$ density of states functions to distinguish between all the observed outcomes, particularly when permuting the absorbing state of fatality by causes and settings:\n",
    "\n",
    "$$\n",
    "\\vec{n} =\n",
    "\\begin{pmatrix}\n",
    "  n_\\text{S}\\\\\n",
    "  n_\\text{I}\\\\\n",
    "  n_\\text{H}\\\\\n",
    "  n_\\text{R}\\\\\n",
    "  n_\\text{D}\\\\\n",
    "  n_\\text{FA}\\\\\n",
    "  n_\\text{FI}\\\\\n",
    "  n_\\text{FH}\n",
    "\\end{pmatrix}\n",
    "\\begin{array}{cl}\n",
    "  \\rightarrow & \\text{Susceptible}\\\\\n",
    "  \\rightarrow & \\text{Infected}\\\\\n",
    "  \\rightarrow & \\text{Hospitalized}\\\\\n",
    "  \\rightarrow & \\text{Recovery of infected}\\\\\n",
    "  \\rightarrow & \\text{Discharge of hospitalized}\\\\\n",
    "  \\rightarrow & \\text{Fatalities due to ageing}\\\\\n",
    "  \\rightarrow & \\text{Fatalities of infected}\\\\\n",
    "  \\rightarrow & \\text{Fatalities of hospitalized}\n",
    "\\end{array}\n",
    "$$\n",
    "\n",
    "Of the possible transitions only the those from susceptible to infected is a strongly exogenous process, representing the transmission of the communicable disease. The other possible transitions represent endogenous biological processes.\n",
    "\n",
    "## Gompertz Processes\n",
    "\n",
    "Over nearly two centuries endogenous biological ageing has been well characterized as following [Gompertz processes](https://en.wikipedia.org/wiki/Gompertz-Makeham_law_of_mortality) on average, as a function of age $a$:\n",
    "\n",
    "$$\n",
    "h = \\beta e^{\\alpha \\cdot a}\n",
    "$$\n",
    "\n",
    "The ageing acceleration parameter $\\alpha$ can be either positive or negative. Heuristically exacerbation processes are positive, while recovery processes are negative. For example, hospitalizations increase exponentially with age, while discharges decrease exponentially with age, that is increasing length of hospital stay. Gompertz processes theoretically arise in the asymptotic limit of infinitesimal stochastic accelerations of time. Accelerated failure time as a model of biological response to environmental stresses has been rigorously validated in high throughput basic science experiments on [Caenorhabditis elegans ](https://www.nature.com/articles/nature16550). In turn the experimental validation of accelerated failure times gives a parsimonious model for transient infections. Given a background hazard rate $h\\left(a\\right)$:\n",
    "\n",
    "$$\n",
    "\\mathbb{P}\\left[ A = a \\parallel A \\ge a \\right] = h\\left(a\\right)\n",
    "$$\n",
    "\n",
    "The statistical impact of an illness is to accelerate the stopping time by a factor of $\\gamma \\gt 1$, which by differentiating the cumulative probability by age $a$ yields the relationship:\n",
    "\n",
    "$$\n",
    "\\mathbb{P}\\left[ A = \\gamma a \\parallel A \\ge \\gamma a \\right] = \\gamma h\\left(\\gamma a\\right)\n",
    "$$\n",
    "\n",
    "The combination of Gompertz processes and accelerated failure time models greatly simplify the construction of communicable disease models because, given a priori estimates of the background parameters, only the single acceleration parameter $\\gamma$ needs to be estimated, and then applied to the background dynamics as an age $a$ and hazard $h$ multiplier.\n",
    "\n",
    "## Makeham Processes\n",
    "\n",
    "In contrast to the simplicity of Gompertz processes and accelerated failure time models as phenomenological theories of endogenous biological processes, exogenous biological processes, particularly the logistic growth of social interactions through puberty, demands a much more complex theory. Makeham processes characterize the casualties of interactions through a bivariate age-age scattering cross section that describes the rate of interaction between any two ages. In turn the age-age [scattering cross section](https://en.wikipedia.org/wiki/Cross_section_%28physics%29) can be [spectrally decomposed](https://en.wikipedia.org/wiki/Spectral_theorem) into a sum of products of univariate uniform normalized Eigen functions:\n",
    "\n",
    "$$\n",
    "\\sigma = \\displaystyle\\sum_{\\lambda} \\lambda \\hat{\\sigma}^\\dagger_\\lambda \\hat{\\sigma}_\\lambda\n",
    "$$\n",
    "\n",
    "While the Eigen functions are dimensionless, the Eigen values $\\lambda$ carry inverse volume units of $\\left(\\text{person} \\times \\text{person} \\times \\text{time}\\right)^{-1}$. From empirical observations the dominant first order summand of the age-age scattering cross section is logistic, and can be interpreted as representing the fraction of the demographic of a particular age that is instantaneously available for social interactions:\n",
    "\n",
    "$$\n",
    "\\hat{\\sigma} = \\frac{1}{1 + e^{-\\alpha_\\text{pub} \\left(a - \\beta_\\text{pub} \\right)}}\n",
    "$$\n",
    "\n",
    "Even with the scattering cross section in hand we cannot naively place the term into the canonical epidemiological infection rate to determine the hazard rate because social interactions are highly serialized. Instead we will work through a combinatoric-probabilistic argument to derive the hazard of infection under serialized social interactions. For a single person consider a short period of time $\\delta t$ during which that person interacts with $\\kappa$ people. Provided the infections do not grow during the time of $\\delta t$ the hazard $h$ of infection is roughly constant. Assuming transmission is guaranteed when in social contact with an infected person, the probability of getting infected after time $T \\gt \\delta t$ is then the probability that all $\\kappa$ contacts are not infected $I^{\\left(t\\right)}$ before time $\\delta t$:\n",
    "\n",
    "$$\n",
    "\\begin{array}{rcl}\n",
    "    e^{-\\int_0^{\\delta t} h da} & = & e^{-h \\delta t}\\\\\n",
    "                                & = & \\mathbb{P}\\left[T \\gt \\delta t\\right]\\\\\n",
    "                                & = & \\left(1 - \\mathbb{P}\\left[I^{\\left(0\\right)}\\right]\\right)^\\kappa\n",
    "\\end{array}\n",
    "$$\n",
    "\n",
    "To estimate the probability of encountering an infected person $\\mathbb{P}\\left[I^{\\left(t\\right)} \\right]$ at time $t$ we weight the integral of each state density function with the dominant term from the age-age scattering cross section, essentially counting the fractional contributions by age, and noting that any multiplicative constants cancel out:\n",
    "\n",
    "$$\n",
    "\\mathbb{P}\\left[I^{\\left(t\\right)} \\right] = \\frac{\\int_0^\\infty n_\\text{I} \\hat{\\sigma} da}{\\int_0^\\infty \\left(n_\\text{S} + n_\\text{I} + n_\\text{R} + n_\\text{D}\\right)\\hat{\\sigma} da}\n",
    "$$\n",
    "\n",
    "We introduce the inverse probability weight:\n",
    "\n",
    "$$\n",
    "\\hat{\\omega} = \\frac\n",
    "    {\\int_0^\\infty \\left(n_\\text{S} + n_\\text{I} + n_\\text{R} + n_\\text{D}\\right)\\hat{\\sigma} da}\n",
    "    {\\int_0^\\infty \\left(n_\\text{S} + n_\\text{R} + n_\\text{D}\\right)\\hat{\\sigma} da}\n",
    "$$\n",
    "\n",
    "and solve for the hazard rate $h$, recognizing the number of social contacts $\\kappa$ for an age will be proportional to the dominant term from the age-age scattering cross section $\\kappa \\propto \\hat{\\sigma}$, and that the ratio of social contacts $\\kappa$ to the time $\\delta t$ is the daily average social contact rate $\\eta$:\n",
    "\n",
    "$$\n",
    "\\begin{array}{rcl}\n",
    "    h & = & \\frac{\\kappa}{\\delta t} \\ln\\hat{\\omega}\\\\\n",
    "      & = & \\eta\\hat{\\sigma} \\ln\\hat{\\omega}\n",
    "\\end{array}\n",
    "$$\n",
    "\n",
    "The daily average social contact rate $\\eta$ is approximately the [basic reproduction number](https://en.wikipedia.org/wiki/Basic_reproduction_number) divided by the duration of contagiousness. It measures the average rate that a single person engages in activities that in the presence of an infection would result in transmission. Although the hazard rate is stated in terms of transmission to susceptible members of the population we can exploit the symmetry of the age-age scattering cross section to determine the social contact rate $\\eta$ from the social contact rate of an infectious member of the population. For measles the daily average social contact rate is on the order of one transmissible contact per person day $\\eta \\approx 1 \\enspace\\text{contact} \\times \\left(\\text{person} \\times \\text{day} \\right)^{-1}$; while for a sexually transmitted infection, such as HPV, in communities that engage in a high degree of long term monogamy the rate is on the order of one transmissible contact per thousand person days $\\eta \\approx 10^{-3} \\enspace\\text{contacts} \\times \\left(\\text{person} \\times \\text{day} \\right)^{-1}$.\n",
    "\n",
    "## Assumptions and Simplifications\n",
    "\n",
    "In balancing the physical plausibility of the model with the availability of data that provides a priori estimates of background parameters we will make eight simplifications and assumptions to expedite the formulation of the model:\n",
    "\n",
    "* Interactions are serialized, they happen one after another.\n",
    "* People are contagious within the day of infection, and are contagious until fully recovered or discharged. This is justified both by qualitative case studies published in peer reviewed journals, and anecdotal accounts published by journalist.\n",
    "* Hospitalization acts as an effective quarantine.\n",
    "* Mortality due to infection proceeds fast enough that fatalities due to infection are the only immediate absorbing state for both infected and hospitalized. This eliminates the transitions from infected and hospitalized to background fatality due to ageing.\n",
    "* The impact of infection is an equal acceleration to the hospitalization, recovery, discharge, and fatality hazards.\n",
    "* The impact of infection is fully transient, so that fatalities due to ageing among the recovered and discharged proceed at the same rate as those among the susceptible.\n",
    "* The fatality rate of the infected is the same as the fatality rate of the hospitalized, this is the most dubious of all the assumptions and simplifications, as it ignores the strong gatekeeper effects in hospitalization that a priori select for more severely ill patients.\n",
    "* The rate of recovery of the infected is the same as the rate of discharge of the hospitalized. This is primarily because we have well calibrated hospital discharge rates, but lack the equivalent rates for recovery in community.\n",
    "\n",
    "## Model Summary\n",
    "\n",
    "Fully labeling all the states and the allowed transitions we then have the following diagram:\n",
    "\n",
    "![State Transition Diagram](../imgs/vonFoersterHazards.png \"State Transition Diagram\")\n",
    "\n",
    "Reading off the transitions from the diagram yields the hazard rate lower diagonal matrix:\n",
    "\n",
    "$$\n",
    "- H =\n",
    "\\begin{pmatrix}\n",
    "  -\\beta_\\text{age} e^{\\alpha_\\text{age} a} - \\eta\\hat{\\sigma} \\ln\\hat{\\omega} & 0 & 0 & 0 & 0 & 0 & 0 & 0\\\\\n",
    "  \\eta\\hat{\\sigma} \\ln\\hat{\\omega} & - \\gamma\\beta_\\text{age} e^{\\gamma\\alpha_\\text{age} a} - \\gamma\\beta_\\text{dis} e^{-\\gamma\\alpha_\\text{dis} a} - \\gamma\\beta_\\text{hos} e^{-\\gamma\\alpha_\\text{hos} a} & 0 & 0 & 0 & 0 & 0 & 0\\\\\n",
    "  0 & \\gamma\\beta_\\text{hos} e^{-\\gamma\\alpha_\\text{hos} a} & - \\gamma\\beta_\\text{age} e^{\\gamma\\alpha_\\text{age} a} - \\gamma\\beta_\\text{dis} e^{-\\gamma\\alpha_\\text{dis} a} & 0 & 0 & 0 & 0 & 0\\\\\n",
    "  0 & \\gamma\\beta_\\text{dis} e^{-\\gamma\\alpha_\\text{dis} a} & 0 & - \\gamma\\beta_\\text{age} e^{\\alpha_\\text{age} a} & 0 & 0 & 0 & 0\\\\\n",
    "  0 & 0 & \\gamma\\beta_\\text{dis} e^{-\\gamma\\alpha_\\text{dis} a} & 0 & -\\beta_\\text{age} e^{\\alpha_\\text{age} a} & 0 & 0 & 0\\\\\n",
    "  \\beta_\\text{age} e^{\\alpha_\\text{age} a} & 0 & 0 & \\beta_\\text{age} e^{\\alpha_\\text{age} a} & \\beta_\\text{age} e^{\\alpha_\\text{age} a} & 0 & 0 & 0\\\\\n",
    "  0 & \\gamma\\beta_\\text{age} e^{\\gamma\\alpha_\\text{age} a} & 0 & 0 & 0 & 0 & 0 & 0\\\\\n",
    "  0 & 0 & \\gamma\\beta_\\text{age} e^{\\gamma\\alpha_\\text{age} a} & 0 & 0 & 0 & 0 & 0\\\\\n",
    "\\end{pmatrix}\n",
    "$$\n",
    "\n",
    "Our model thus falls within the general class of [Phase Type Distrubtions](https://en.wikipedia.org/wiki/Phase-type_distribution), because a lower diagonal matrix represents a process that does not backtrack through states.\n",
    "\n",
    "## Materials\n",
    "\n",
    "We will use our previous work on the [Hazard Rate Zoo](https://public.tableau.com/profile/gompertz.makeham#!/vizhome/AlbertaMortalityandUtilizationHazardRatesbyAgeandSex/Welcome) to set the boundary conditions and to determine credible estimates for the ranges of the parameters that describe the background evolution dynamics. To determine the ageing acceleration factor we will use the age dependent case fatality rates compiled on [Our World in Data](https://ourworldindata.org/coronavirus#current-data-across-countries-suggests-that-the-elderly-are-most-at-risk), and assume the average case lasts for approximately one month.\n",
    "\n",
    "|Parameter          |Name                             |Estimate          |Units                                               |Notes                                                 |\n",
    "|-------------------|---------------------------------|------------------|----------------------------------------------------|------------------------------------------------------|\n",
    "|$\\alpha_\\text{age}$|Background ageing mortality      |$\\frac{\\ln 2}{7}$ |$\\frac{1}{\\text{years}}$                            |Mortality doubles every $7$ years.                    |\n",
    "|$\\beta_\\text{age}$ |Background mortality rate        |$\\frac{1}{32000}$ |$\\frac{\\text{deaths}}{\\text{person year}}$          |$1$ death every $1000$ person years at $35$.          |\n",
    "|$\\alpha_\\text{hos}$|Background ageing hospitalization|$\\frac{\\ln 2}{14}$|$\\frac{1}{\\text{years}}$                            |Hospitalizations double every $14$ years.             |\n",
    "|$\\beta_\\text{hos}$ |Background hospitalization rate  |$\\frac{1}{320}$   |$\\frac{\\text{hospitalizations}}{\\text{person year}}$|$1$ hospitalization every $40$ person years at $42$.  |\n",
    "|$\\alpha_\\text{dis}$|Background ageing discharge      |$\\frac{\\ln 2}{49}$|$\\frac{1}{\\text{years}}$                            |Hospital stay doubles every $49$ years.               |\n",
    "|$\\beta_\\text{dis}$ |Background discharge rate        |$\\frac{1}{16}$    |$\\frac{\\text{discharges}}{\\text{person day}}$       |$1$ discharge every $8$ person days at $49$.          |\n",
    "|$\\alpha_\\text{pub}$|Puberty rate                     |$\\frac{\\ln 2}{2}$ |$\\frac{1}{\\text{years}}$                            |Social contacts doubling every $2$ years.             |\n",
    "|$\\beta_\\text{pub}$ |Pubescent mid-point              |$16$              |$\\text{years}$                                      |Doubling peaks at $16$.                               |\n",
    "|$\\eta$             |Maximum contact rate             |$10^{-3}$ to $1$  |$\\frac{\\text{contacts}}{\\text{person day}}$         |Maximum transmissible contacts in a day.              |\n",
    "|$\\gamma$           |Infection ageing acceleration    |$1.2$ to $1.4$    |Dimensionless                                       |$15\\%$ mortality at $80$ after $1$ month of infection.|\n",
    "\n",
    "Having downloaded the hazard rate data set and the demographic pyramid data set from the Hazard Rate Zoo hosted on Tableau Public we will estimate the parameters for ageing fatality rates, hospital admission rates, and hospital discharge rates, using the Gadfly, DataFrames, and CSV Julia packages."
   ]
  },
  {
   "cell_type": "markdown",
   "metadata": {},
   "source": [
    "## Estimating the Infection Ageing Acceleration\n",
    "\n",
    "From our work on the Hazard Rate Zoo we know that the background hazard rate for fatalities due to ageing, in round numbers, is a doubling of mortality every $7$ years, with $1$ fatality in $1000$ person years at $35$ years of age:\n",
    "\n",
    "$$\n",
    "h = \\frac{e^{\\frac{\\ln 2}{7}a}}{32000}\n",
    "$$\n",
    "\n",
    "Furthermore during infection at $80$ years of age there is a $15\\%$ fatality rate over a month of infection, and thus $1.8$ fatalities per person year. To estimate the infection ageing acceleration parameter $\\gamma$ we have to solve the equation:\n",
    "\n",
    "$$\n",
    "\\frac{\\gamma e^{\\gamma\\frac{\\ln 2}{7}a}}{32000} = 1.8\n",
    "$$\n",
    "\n",
    "We can find the root by a poor man's fixed point recursion, with the trial solution $\\gamma=1.34615$:\n",
    "\n",
    "$$\n",
    "57600 e^{-\\gamma\\frac{\\ln 2}{7}80} = \\gamma\n",
    "$$\n",
    "\n",
    "The root is unique because the left hand side is decreasing in $\\gamma$ and the right hand side is increasing in $\\gamma$. This yields a reasonable range of a $20\\%$ to $40\\%$ increase in their rate of ageing while infected. Rounding off to $25\\%$ we have the interpretation that while infected a $30$ year old faces the same mortality risk as a healthy $45$ year old, and more gravely an infected $80$ year old faces the same mortality risk as a healthy $120$ year old. This leads to a concise heuristic interpretation of the social burden of the infection. It is not that it causes preventable deaths it is that it causes all the deaths that would have occurred over the next three years to occur in the next three months."
   ]
  },
  {
   "cell_type": "code",
   "execution_count": 1,
   "metadata": {},
   "outputs": [
    {
     "data": {
      "text/plain": [
       "1.346495830673008"
      ]
     },
     "execution_count": 1,
     "metadata": {},
     "output_type": "execute_result"
    }
   ],
   "source": [
    "57600*exp(-1.34615*log(2)*80/7)"
   ]
  },
  {
   "cell_type": "code",
   "execution_count": null,
   "metadata": {},
   "outputs": [],
   "source": []
  }
 ],
 "metadata": {
  "kernelspec": {
   "display_name": "Julia 1.0.4",
   "language": "julia",
   "name": "julia-1.0"
  },
  "language_info": {
   "file_extension": ".jl",
   "mimetype": "application/julia",
   "name": "julia",
   "version": "1.0.4"
  }
 },
 "nbformat": 4,
 "nbformat_minor": 4
}
